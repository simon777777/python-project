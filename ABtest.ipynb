{
 "cells": [
  {
   "cell_type": "markdown",
   "id": "796ded28",
   "metadata": {},
   "source": [
    "# 新打字界面（双独立样本检验）"
   ]
  },
  {
   "cell_type": "code",
   "execution_count": 1,
   "id": "78566bb1",
   "metadata": {},
   "outputs": [],
   "source": [
    "import pandas as pd\n",
    "import numpy  as np\n",
    "import seaborn as sns\n",
    "from openpyxl import load_workbook \n",
    "import matplotlib.pyplot as plt\n",
    "import warnings # 非致命错误\n",
    "warnings.filterwarnings('ignore',category=DeprecationWarning)\n",
    "from scipy import stats #包含贝叶斯方法和机器学习模型"
   ]
  },
  {
   "cell_type": "code",
   "execution_count": 2,
   "id": "14d18c32",
   "metadata": {},
   "outputs": [
    {
     "data": {
      "text/html": [
       "<div>\n",
       "<style scoped>\n",
       "    .dataframe tbody tr th:only-of-type {\n",
       "        vertical-align: middle;\n",
       "    }\n",
       "\n",
       "    .dataframe tbody tr th {\n",
       "        vertical-align: top;\n",
       "    }\n",
       "\n",
       "    .dataframe thead th {\n",
       "        text-align: right;\n",
       "    }\n",
       "</style>\n",
       "<table border=\"1\" class=\"dataframe\">\n",
       "  <thead>\n",
       "    <tr style=\"text-align: right;\">\n",
       "      <th></th>\n",
       "      <th>A</th>\n",
       "      <th>B</th>\n",
       "    </tr>\n",
       "  </thead>\n",
       "  <tbody>\n",
       "    <tr>\n",
       "      <th>count</th>\n",
       "      <td>25.000000</td>\n",
       "      <td>25.000000</td>\n",
       "    </tr>\n",
       "    <tr>\n",
       "      <th>mean</th>\n",
       "      <td>5.080000</td>\n",
       "      <td>7.800000</td>\n",
       "    </tr>\n",
       "    <tr>\n",
       "      <th>std</th>\n",
       "      <td>2.059935</td>\n",
       "      <td>2.645751</td>\n",
       "    </tr>\n",
       "    <tr>\n",
       "      <th>min</th>\n",
       "      <td>2.000000</td>\n",
       "      <td>3.000000</td>\n",
       "    </tr>\n",
       "    <tr>\n",
       "      <th>25%</th>\n",
       "      <td>4.000000</td>\n",
       "      <td>6.000000</td>\n",
       "    </tr>\n",
       "    <tr>\n",
       "      <th>50%</th>\n",
       "      <td>5.000000</td>\n",
       "      <td>8.000000</td>\n",
       "    </tr>\n",
       "    <tr>\n",
       "      <th>75%</th>\n",
       "      <td>7.000000</td>\n",
       "      <td>10.000000</td>\n",
       "    </tr>\n",
       "    <tr>\n",
       "      <th>max</th>\n",
       "      <td>10.000000</td>\n",
       "      <td>13.000000</td>\n",
       "    </tr>\n",
       "  </tbody>\n",
       "</table>\n",
       "</div>"
      ],
      "text/plain": [
       "               A          B\n",
       "count  25.000000  25.000000\n",
       "mean    5.080000   7.800000\n",
       "std     2.059935   2.645751\n",
       "min     2.000000   3.000000\n",
       "25%     4.000000   6.000000\n",
       "50%     5.000000   8.000000\n",
       "75%     7.000000  10.000000\n",
       "max    10.000000  13.000000"
      ]
     },
     "execution_count": 2,
     "metadata": {},
     "output_type": "execute_result"
    }
   ],
   "source": [
    "data = pd.ExcelFile(r\"C:\\Users\\m1533\\Desktop\\研一下\\python\\Data-analysis-master\\AB测试分析\\键盘AB测试.xlsx\")\n",
    "data=data.parse(\"Sheet1\",dtype=\"int\")\n",
    "data.describe()"
   ]
  },
  {
   "cell_type": "markdown",
   "id": "5eaa84da",
   "metadata": {},
   "source": [
    "## 描述性统计"
   ]
  },
  {
   "cell_type": "code",
   "execution_count": 3,
   "id": "00a58982",
   "metadata": {},
   "outputs": [],
   "source": [
    "#第一组数据均值\n",
    "A_mean = data['A'].mean()\n",
    "# 第一组数据标准差\n",
    "A_std = data['A'].std()\n",
    "\n",
    "# 第二组数据均值\n",
    "B_mean = data['B'].mean()\n",
    "# 第二组数据标准差\n",
    "B_std = data['B'].std()"
   ]
  },
  {
   "cell_type": "code",
   "execution_count": 4,
   "id": "0636aa25",
   "metadata": {},
   "outputs": [
    {
     "data": {
      "image/png": "[encoded data removed]",
      "text/plain": [
       "<Figure size 864x504 with 1 Axes>"
      ]
     },
     "metadata": {
      "needs_background": "light"
     },
     "output_type": "display_data"
    }
   ],
   "source": [
    "#两个样本数据集对比\n",
    "#画板\n",
    "fg = plt.figure(figsize = (12,7))\n",
    "#画纸\n",
    "ax = fg.add_subplot(1,1,1)#nrows=1，ncolumns=1的第一个子图\n",
    "#绘制柱状图\n",
    "data.plot(kind = 'bar',ax = ax)\n",
    "plt.xticks(rotation=0)  # 横坐标名称旋转30度\n",
    "plt.show()"
   ]
  },
  {
   "cell_type": "code",
   "execution_count": 5,
   "id": "8b79b269",
   "metadata": {},
   "outputs": [
    {
     "name": "stdout",
     "output_type": "stream",
     "text": [
      "描述统计分析结果：\n",
      "第一组数据：A键盘，实验者的打字平均出错数是: 5.08 个,标准差是 2.05993527406405 个\n",
      "第二组数据：B键盘，实验者的打字平均出错数是: 7.8 个,标准差是 2.6457513110645903 个\n",
      "可见，A键盘的出错均值小于于B键盘\n"
     ]
    }
   ],
   "source": [
    "print('描述统计分析结果：')\n",
    "print('第一组数据：A键盘，实验者的打字平均出错数是:',A_mean,'个,标准差是',A_std,'个')\n",
    "print('第二组数据：B键盘，实验者的打字平均出错数是:',B_mean,'个,标准差是',B_std,'个')\n",
    "print('可见，A键盘的出错均值小于于B键盘')"
   ]
  },
  {
   "cell_type": "markdown",
   "id": "871535f2",
   "metadata": {},
   "source": [
    "## 推断统计 "
   ]
  },
  {
   "cell_type": "code",
   "execution_count": 6,
   "id": "ed7cb12b",
   "metadata": {},
   "outputs": [],
   "source": [
    "### 假设检验"
   ]
  },
  {
   "cell_type": "markdown",
   "id": "f9ae2fe4",
   "metadata": {},
   "source": [
    "本次统计主要是为了确定A，B两种键盘的出错率，因此作出以下假设\n",
    "* 零假设H0：A,B两种键盘打字出错率没有明显区别；\n",
    "* 备选假设H1：A,B两种键盘的打字出错率存在明显区别。"
   ]
  },
  {
   "cell_type": "code",
   "execution_count": 7,
   "id": "f5a05f9a",
   "metadata": {},
   "outputs": [
    {
     "data": {
      "image/png": "[encoded data removed]",
      "text/plain": [
       "<Figure size 432x288 with 1 Axes>"
      ]
     },
     "metadata": {
      "needs_background": "light"
     },
     "output_type": "display_data"
    },
    {
     "data": {
      "image/png": "[encoded data removed]",
      "text/plain": [
       "<Figure size 432x288 with 1 Axes>"
      ]
     },
     "metadata": {
      "needs_background": "light"
     },
     "output_type": "display_data"
    }
   ],
   "source": [
    "#查看数据集分布\n",
    "##添加中文标题须用下列代码\n",
    "plt.rcParams['font.sans-serif'] = ['SimHei']  # 指定默认字体\n",
    "plt.rcParams['axes.unicode_minus'] = False  # 解决保存图像是负号'-'显示为方块的问题\n",
    "sns.histplot(data['A'],kde = True,discrete=True)\n",
    "plt.title('A键盘出错字数分布')\n",
    "plt.show()\n",
    "sns.histplot(data['B'],kde = True,discrete=True)\n",
    "plt.title('B键盘出错字数分布')\n",
    "plt.show()"
   ]
  },
  {
   "cell_type": "code",
   "execution_count": 8,
   "id": "26e46231",
   "metadata": {},
   "outputs": [],
   "source": [
    "Shapiro_testA = stats.shapiro(data.A)\n",
    "Shapiro_testB = stats.shapiro(data.B)"
   ]
  },
  {
   "cell_type": "code",
   "execution_count": 9,
   "id": "34be6fb6",
   "metadata": {},
   "outputs": [
    {
     "name": "stdout",
     "output_type": "stream",
     "text": [
      "ShapiroResult(statistic=0.9509594440460205, pvalue=0.2634974718093872)\n",
      "ShapiroResult(statistic=0.9543656706809998, pvalue=0.3136821985244751)\n"
     ]
    }
   ],
   "source": [
    "print(Shapiro_testA)\n",
    "print(Shapiro_testB)"
   ]
  },
  {
   "cell_type": "markdown",
   "id": "e676b0d9",
   "metadata": {},
   "source": [
    "p值均小于0.05，所以说明可以接受两样本服从正态分布"
   ]
  },
  {
   "cell_type": "code",
   "execution_count": 10,
   "id": "10b6ee99",
   "metadata": {},
   "outputs": [
    {
     "name": "stdout",
     "output_type": "stream",
     "text": [
      "t值= -4.055938536857321 双边检验的p值= 0.00018256061720148224\n"
     ]
    }
   ],
   "source": [
    "t,p_twoTail = stats.ttest_ind(data['A'],data['B'])\n",
    "print('t值=',t,'双边检验的p值=',p_twoTail) "
   ]
  },
  {
   "cell_type": "code",
   "execution_count": 11,
   "id": "240dc0ad",
   "metadata": {},
   "outputs": [
    {
     "name": "stdout",
     "output_type": "stream",
     "text": [
      "t= -4.055938536857321 p_two= 0.00018256061720148224 ,df= 45.27813331135627\n"
     ]
    }
   ],
   "source": [
    "import statsmodels.stats.weightstats as st\n",
    "'''\n",
    "ttest_ind：独立双样本t检验，\n",
    "usevar='unequal'两个总体方差不一样\n",
    "返回的第1个值t是假设检验计算出的（t值），\n",
    "第2个p_two是双尾检验的p值\n",
    "第3个df是独立双样本的自由度\n",
    "'''\n",
    "t,p_two,df=st.ttest_ind(data['A'],data['B'],usevar='unequal')\n",
    "\n",
    "#自由度一般只保留整数部分\n",
    "print('t=',t,'p_two=',p_twoTail,',df=',df)"
   ]
  },
  {
   "cell_type": "code",
   "execution_count": 12,
   "id": "1453d164",
   "metadata": {},
   "outputs": [
    {
     "name": "stdout",
     "output_type": "stream",
     "text": [
      "拒绝零假设\n",
      "接受备选假设：AB键盘打字出错数存在明显差异\n"
     ]
    }
   ],
   "source": [
    "#显著水平\n",
    "a=0.05\n",
    "#决策\n",
    "if(p_twoTail< a):\n",
    "    print('拒绝零假设')\n",
    "    print('接受备选假设：AB键盘打字出错数存在明显差异')\n",
    "else:\n",
    "    print('接受备选假设，统计不显著，也就是AB键盘不存在明显差异')"
   ]
  },
  {
   "cell_type": "markdown",
   "id": "aa35922d",
   "metadata": {},
   "source": [
    "### 置信区间"
   ]
  },
  {
   "cell_type": "code",
   "execution_count": 13,
   "id": "76214ad7",
   "metadata": {},
   "outputs": [],
   "source": [
    "#t值获取渠道https://www.graphpad.com/quickcalcs/statratio1/（利用这个工具获取t值，需要注意输入的概率值是1-95%=0.05）\n",
    "t_ci=2.0141\n",
    "#差值数据集平均值\n",
    "sample_mean=A_mean-B_mean\n",
    "#使用双样本独立假设的标准差计算公式\n",
    "se=np.sqrt(np.square(A_std)/25+np.square(B_std)/25)\n",
    "#置信区间上限\n",
    "a=sample_mean - t_ci * se\n",
    "#置信区间下限\n",
    "b=sample_mean + t_ci * se\n",
    "#标准误差:https://docs.scipy.org/doc/scipy-0.14.0/reference/generated/scipy.stats.sem.html"
   ]
  },
  {
   "cell_type": "code",
   "execution_count": 14,
   "id": "5715a261",
   "metadata": {},
   "outputs": [
    {
     "name": "stdout",
     "output_type": "stream",
     "text": [
      "两个平均值差值的置信区间，95置信水平 CI=[-4.070699,-1.369301]\n"
     ]
    }
   ],
   "source": [
    "print('两个平均值差值的置信区间，95置信水平 CI=[%f,%f]' % (a,b))"
   ]
  },
  {
   "cell_type": "markdown",
   "id": "dc28271d",
   "metadata": {},
   "source": [
    "可见，新的界面可以使得打字错误数减少1-4个"
   ]
  },
  {
   "cell_type": "markdown",
   "id": "7f43a63e",
   "metadata": {},
   "source": [
    "### 效应量"
   ]
  },
  {
   "cell_type": "code",
   "execution_count": 15,
   "id": "f4ac1036",
   "metadata": {},
   "outputs": [
    {
     "name": "stdout",
     "output_type": "stream",
     "text": [
      "d= 1.1291739245563963\n"
     ]
    }
   ],
   "source": [
    "# 不过分依赖p值，如果p值说明新的策略有影响，效应量则用于衡量这种影响有多大，这里采用Cohen's d（应用于连续数值）\n",
    "# 详见https://zhuanlan.zhihu.com/p/361984708\n",
    "\n",
    "#差值数据集的合并标准差\n",
    "sample_std=np.sqrt((24*np.square(A_std)+24*np.square(B_std))/48)#样本标准差\n",
    "\n",
    "#计算效应量\n",
    "d1=(-A_mean + B_mean) / sample_std\n",
    "\n",
    "\n",
    "\n",
    "## 小样本要用修正版的Cohen's d即Hedges' ｇ\n",
    "d2=d1*(1-3/(4*(25+25-2)-1))\n",
    "print('d=',d2)"
   ]
  },
  {
   "cell_type": "markdown",
   "id": "0735cf82",
   "metadata": {},
   "source": [
    "d值大于0.8，可以认为新系统效应较大\n",
    "（但这个标准是Cohen个人经验的体现）"
   ]
  },
  {
   "cell_type": "markdown",
   "id": "7d9f8d4d",
   "metadata": {},
   "source": [
    "# 特鲁普效应（相关配对检验）"
   ]
  },
  {
   "cell_type": "markdown",
   "id": "0bd8da43",
   "metadata": {},
   "source": [
    "特鲁普效应是著名的心理学现象，展示了人们对事物的认知过程已是一个自动化的历程。当有一个新的刺激出现时，如果它的特征和原先的刺激相似或符合一致，便会加速人们的认知；反之，若新的刺激特征与原先的刺激不相同，则会干扰人们的认知，使人们的所需的反映数据变长。\n",
    "简单来说，斯特鲁普效应是当有与原有认知不同的情况出现时，人们的反应时间会较长。"
   ]
  },
  {
   "cell_type": "code",
   "execution_count": 16,
   "id": "7170b6ef",
   "metadata": {},
   "outputs": [],
   "source": [
    "import pandas as pd\n",
    "import numpy  as np\n",
    "import seaborn as sns\n",
    "import matplotlib.pyplot as plt\n",
    "import warnings # 非致命错误\n",
    "warnings.filterwarnings('ignore',category=DeprecationWarning)\n",
    "from scipy import stats #包含贝叶斯方法和机器学习模型"
   ]
  },
  {
   "cell_type": "markdown",
   "id": "27556727",
   "metadata": {},
   "source": [
    "## 描述性统计"
   ]
  },
  {
   "cell_type": "code",
   "execution_count": 17,
   "id": "de775c55",
   "metadata": {},
   "outputs": [
    {
     "data": {
      "text/html": [
       "<div>\n",
       "<style scoped>\n",
       "    .dataframe tbody tr th:only-of-type {\n",
       "        vertical-align: middle;\n",
       "    }\n",
       "\n",
       "    .dataframe tbody tr th {\n",
       "        vertical-align: top;\n",
       "    }\n",
       "\n",
       "    .dataframe thead th {\n",
       "        text-align: right;\n",
       "    }\n",
       "</style>\n",
       "<table border=\"1\" class=\"dataframe\">\n",
       "  <thead>\n",
       "    <tr style=\"text-align: right;\">\n",
       "      <th></th>\n",
       "      <th>Congruent</th>\n",
       "      <th>Incongruent</th>\n",
       "    </tr>\n",
       "  </thead>\n",
       "  <tbody>\n",
       "    <tr>\n",
       "      <th>count</th>\n",
       "      <td>24.000000</td>\n",
       "      <td>24.000000</td>\n",
       "    </tr>\n",
       "    <tr>\n",
       "      <th>mean</th>\n",
       "      <td>13.926875</td>\n",
       "      <td>22.350750</td>\n",
       "    </tr>\n",
       "    <tr>\n",
       "      <th>std</th>\n",
       "      <td>3.540219</td>\n",
       "      <td>5.010218</td>\n",
       "    </tr>\n",
       "    <tr>\n",
       "      <th>min</th>\n",
       "      <td>8.630000</td>\n",
       "      <td>15.687000</td>\n",
       "    </tr>\n",
       "    <tr>\n",
       "      <th>25%</th>\n",
       "      <td>11.895250</td>\n",
       "      <td>18.716750</td>\n",
       "    </tr>\n",
       "    <tr>\n",
       "      <th>50%</th>\n",
       "      <td>13.627500</td>\n",
       "      <td>21.046000</td>\n",
       "    </tr>\n",
       "    <tr>\n",
       "      <th>75%</th>\n",
       "      <td>15.671250</td>\n",
       "      <td>24.536000</td>\n",
       "    </tr>\n",
       "    <tr>\n",
       "      <th>max</th>\n",
       "      <td>22.328000</td>\n",
       "      <td>35.255000</td>\n",
       "    </tr>\n",
       "  </tbody>\n",
       "</table>\n",
       "</div>"
      ],
      "text/plain": [
       "       Congruent  Incongruent\n",
       "count  24.000000    24.000000\n",
       "mean   13.926875    22.350750\n",
       "std     3.540219     5.010218\n",
       "min     8.630000    15.687000\n",
       "25%    11.895250    18.716750\n",
       "50%    13.627500    21.046000\n",
       "75%    15.671250    24.536000\n",
       "max    22.328000    35.255000"
      ]
     },
     "execution_count": 17,
     "metadata": {},
     "output_type": "execute_result"
    }
   ],
   "source": [
    "data=pd.read_csv(r\"C:\\Users\\m1533\\Desktop\\研一下\\python\\Data-analysis-master\\斯特鲁普效应分析\\Stroop数据集.csv\")\n",
    "data.describe()"
   ]
  },
  {
   "cell_type": "markdown",
   "id": "e6079b69",
   "metadata": {},
   "source": [
    "从描述性统计中我们可以看到，均值和方差都有较大差异"
   ]
  },
  {
   "cell_type": "code",
   "execution_count": 18,
   "id": "40e1b6c4",
   "metadata": {},
   "outputs": [
    {
     "data": {
      "image/png": "[encoded data removed]",
      "text/plain": [
       "<Figure size 864x504 with 1 Axes>"
      ]
     },
     "metadata": {
      "needs_background": "light"
     },
     "output_type": "display_data"
    }
   ],
   "source": [
    "fig=plt.figure(figsize=(12,7))\n",
    "ax=fig.add_subplot(1,1,1)\n",
    "data.plot(kind='bar',ax=ax)\n",
    "plt.xticks(rotation=0)\n",
    "plt.show()"
   ]
  },
  {
   "cell_type": "markdown",
   "id": "c2c117b5",
   "metadata": {},
   "source": [
    "从图上可以看出，对于每一个实验对象，非一致的认知时间要明显高于一致的认知"
   ]
  },
  {
   "cell_type": "code",
   "execution_count": 19,
   "id": "25202509",
   "metadata": {},
   "outputs": [
    {
     "name": "stdout",
     "output_type": "stream",
     "text": [
      "描述统计分析结果：\n",
      "第一组数据：一致认知，实验者认知平均时间为: 13.926875 ,标准差是 3.54021942715297\n",
      "第二组数据：非一致认知，实验者认知平均时间为: 22.35075 ,标准差是 5.010217727196399\n",
      "可见，非一致认知平均时间要大于一致认知\n"
     ]
    }
   ],
   "source": [
    "con_mean=data['Congruent'].mean()\n",
    "con_std=data['Congruent'].std()\n",
    "inc_mean=data['Incongruent'].mean()\n",
    "inc_std=data['Incongruent'].std()\n",
    "print('描述统计分析结果：')\n",
    "print('第一组数据：一致认知，实验者认知平均时间为:',con_mean,',标准差是',con_std)\n",
    "print('第二组数据：非一致认知，实验者认知平均时间为:',inc_mean,',标准差是',inc_std)\n",
    "print('可见，非一致认知平均时间要大于一致认知')"
   ]
  },
  {
   "cell_type": "markdown",
   "id": "d4deaaca",
   "metadata": {},
   "source": [
    "## 推断统计"
   ]
  },
  {
   "cell_type": "markdown",
   "id": "206f0ee0",
   "metadata": {},
   "source": [
    "### 假设检验"
   ]
  },
  {
   "cell_type": "markdown",
   "id": "44d0061e",
   "metadata": {},
   "source": [
    "* H0: 一致认知和非一致认知时间无显著差异\n",
    "* H1: 一致认知和非一致认知时间有显著差异，且非一致时间较长"
   ]
  },
  {
   "cell_type": "code",
   "execution_count": 20,
   "id": "a3254153",
   "metadata": {},
   "outputs": [
    {
     "name": "stdout",
     "output_type": "stream",
     "text": [
      "ShapiroResult(statistic=0.9270333051681519, pvalue=0.08369500190019608)\n"
     ]
    }
   ],
   "source": [
    "#样本量小于5000，所以用Shapiro而不用ks\n",
    "data1=data.Incongruent-data.Congruent\n",
    "Shapirotest=stats.shapiro(data1)\n",
    "print(Shapirotest)"
   ]
  },
  {
   "cell_type": "code",
   "execution_count": 21,
   "id": "40c869c2",
   "metadata": {},
   "outputs": [
    {
     "data": {
      "text/plain": [
       "Text(0.5, 1.0, '数据集分布')"
      ]
     },
     "execution_count": 21,
     "metadata": {},
     "output_type": "execute_result"
    },
    {
     "data": {
      "image/png": "[encoded data removed]",
      "text/plain": [
       "<Figure size 432x288 with 1 Axes>"
      ]
     },
     "metadata": {
      "needs_background": "light"
     },
     "output_type": "display_data"
    }
   ],
   "source": [
    "sns.histplot(data1,discrete=True,kde=True)\n",
    "plt.title(\"数据集分布\")"
   ]
  },
  {
   "cell_type": "markdown",
   "id": "98abe129",
   "metadata": {},
   "source": [
    "数据仅有24<30,属于小样本，而根据shapiro检验，p值大于0.05，样本总体可以接受为正态分布，所以采用配对t检验，自由度为24-1=23"
   ]
  },
  {
   "cell_type": "code",
   "execution_count": 22,
   "id": "91894734",
   "metadata": {},
   "outputs": [
    {
     "name": "stdout",
     "output_type": "stream",
     "text": [
      "t值为 -8.088610872807589 单边检验p值为 1.774359574862448e-08\n"
     ]
    }
   ],
   "source": [
    "'''\n",
    "单（1samp）样本t检验（ttest_1samp）：https://docs.scipy.org/doc/scipy/reference/generated/scipy.stats.ttest_1samp.html\n",
    "相关（related）配对t检验（ttest_rel）：https://docs.scipy.org/doc/scipy/reference/generated/scipy.stats.ttest_rel.html\n",
    "双独立（independent）样本t检验（ttest_ind）：https://docs.scipy.org/doc/scipy/reference/generated/scipy.stats.ttest_ind.html\n",
    "'''\n",
    "t,p =stats.ttest_rel(data['Congruent'],data['Incongruent'],alternative='less')\n",
    "print('t值为',t,'单边检验p值为',p)"
   ]
  },
  {
   "cell_type": "code",
   "execution_count": 23,
   "id": "04b37a5f",
   "metadata": {},
   "outputs": [
    {
     "name": "stdout",
     "output_type": "stream",
     "text": [
      "拒绝零假设，统计显著，存在斯特鲁普效应\n"
     ]
    }
   ],
   "source": [
    "alpha=0.05\n",
    "'''\n",
    "左尾判断条件：t < 0 and  p < 判断标准（显著水平）alpha\n",
    "右尾判断条件：t > 0 and  p < 判断标准（显著水平）alpha\n",
    "'''\n",
    "#做出结论\n",
    "if(t<0 and p< alpha): \n",
    "    print('拒绝零假设，统计显著，存在斯特鲁普效应')\n",
    "else: \n",
    "    print('接受零假设，统计不显著，不存在斯特鲁普效应')"
   ]
  },
  {
   "cell_type": "markdown",
   "id": "3e082276",
   "metadata": {},
   "source": [
    "### 置信区间"
   ]
  },
  {
   "cell_type": "code",
   "execution_count": 24,
   "id": "48b83d10",
   "metadata": {},
   "outputs": [],
   "source": [
    "t_ci=2.064\n",
    "se=stats.sem(data1)#使用scipy计算标准误差\n",
    "a=data1.mean()-t_ci*se\n",
    "b=data1.mean()+t_ci*se"
   ]
  },
  {
   "cell_type": "code",
   "execution_count": 25,
   "id": "09119603",
   "metadata": {},
   "outputs": [
    {
     "name": "stdout",
     "output_type": "stream",
     "text": [
      "单个平均值的置信区间，95置信水平 CI=(6.274324,10.573426)\n"
     ]
    }
   ],
   "source": [
    "print('单个平均值的置信区间，95置信水平 CI=(%f,%f)' % (a,b))"
   ]
  },
  {
   "cell_type": "markdown",
   "id": "e970f3cc",
   "metadata": {},
   "source": [
    "这说明非一致认知时间要平均比一致认知时间多出6-10各单位"
   ]
  },
  {
   "cell_type": "markdown",
   "id": "e47ac367",
   "metadata": {},
   "source": [
    "### 效应量"
   ]
  },
  {
   "cell_type": "code",
   "execution_count": 26,
   "id": "0719b7e4",
   "metadata": {},
   "outputs": [
    {
     "name": "stdout",
     "output_type": "stream",
     "text": [
      "d= 1.9100725154674116\n"
     ]
    }
   ],
   "source": [
    "sam_std=np.sqrt((np.square(con_std)+np.square(inc_std))/2)\n",
    "d=(inc_mean-con_mean)/sam_std\n",
    "d_adjust=d*(1-3/(4*(24+24-2)-1))\n",
    "print('d=',d_adjust)"
   ]
  },
  {
   "cell_type": "markdown",
   "id": "310e94ee",
   "metadata": {},
   "source": [
    "d值大于0.8，可以认为效应较大"
   ]
  },
  {
   "cell_type": "code",
   "execution_count": null,
   "id": "6366dbae",
   "metadata": {},
   "outputs": [],
   "source": []
  }
 ],
 "metadata": {
  "kernelspec": {
   "display_name": "Python 3 (ipykernel)",
   "language": "python",
   "name": "python3"
  },
  "language_info": {
   "codemirror_mode": {
    "name": "ipython",
    "version": 3
   },
   "file_extension": ".py",
   "mimetype": "text/x-python",
   "name": "python",
   "nbconvert_exporter": "python",
   "pygments_lexer": "ipython3",
   "version": "3.9.12"
  }
 },
 "nbformat": 4,
 "nbformat_minor": 5
}
