{
 "cells": [
  {
   "cell_type": "code",
   "execution_count": 1,
   "id": "59d02ab0",
   "metadata": {},
   "outputs": [],
   "source": [
    "import numpy as np\n",
    "import pandas as pd\n",
    "from sklearn.preprocessing import LabelEncoder\n",
    "from sklearn.feature_selection import chi2,f_classif\n",
    "import seaborn as sns\n",
    "import matplotlib.pyplot as plt\n",
    "import  string\n",
    "from string import *\n",
    "import sklearn\n",
    "from sklearn.model_selection import  train_test_split\n",
    "import xgboost as xgb\n",
    "from xgboost.sklearn import XGBClassifier\n",
    "from sklearn.model_selection import GridSearchCV\n",
    "from sklearn.metrics import classification_report,roc_curve,precision_score,recall_score,auc,precision_recall_curve"
   ]
  },
  {
   "cell_type": "markdown",
   "id": "89f01285",
   "metadata": {},
   "source": [
    "## Index\n",
    "* [Load and process data](#load-and-process-data)\n",
    "* [Question 1](#question-1)\n",
    "* [Question 2](#question-2)\n",
    "    * [Visualization of purhases](#Visualization-of-`purhases`)\n",
    "    * [Visualization of country](#Visualization-of-`country`)\n",
    "    * [Visualization of is_personal](#Visualization-of-`is_personal`)\n",
    "    * [Visualization of weekday](#Visualization-of-`weekday`)\n",
    "    * [Visualization of hour](#Visualization-of-`hour`)\n",
    "    * [Visualization of paragraph](#Visualization-of-`paragraph`)\n",
    "    * [Visualization of weekday&hour](#Visualization-of-`weekday&hour`)\n",
    "* [Question 3](#question-3)\n",
    "    * [Model](#XGBoost)\n",
    "* [Question 4](#question-4)"
   ]
  },
  {
   "cell_type": "markdown",
   "id": "86ddeae3",
   "metadata": {},
   "source": [
    "## load and process data"
   ]
  },
  {
   "cell_type": "code",
   "execution_count": 2,
   "id": "8456a338",
   "metadata": {},
   "outputs": [],
   "source": [
    "emails=pd.read_csv(r\"D:\\data\\email_table.csv\",index_col=\"email_id\")"
   ]
  },
  {
   "cell_type": "markdown",
   "id": "1af1b251",
   "metadata": {},
   "source": [
    "Columns:\n",
    "* email_id : the Id of the email that was sent. It is unique by email \n",
    "* email_text : there are two versions of the email: one has \"long text\" (i.e. has 4 paragraphs) and one has \"short text\" (just 2 paragraphs) \n",
    "* email_version : some emails were \"personalized\" (i.e. they had the name of the user receiving the email in the incipit, such as \"Hi John,\"), while some emails were \"generic\" (the incipit was just \"Hi,\"). \n",
    "* hour : the user local time when the email was sent. \n",
    "* weekday : the day when the email was sent. \n",
    "* user_country : the country where the user receiving the email was based. It comes from the user ip address when she created the account. \n",
    "* user_past_purchases : how many items in the past were bought by the user receiving the email"
   ]
  },
  {
   "cell_type": "code",
   "execution_count": 3,
   "id": "2643f9e8",
   "metadata": {
    "scrolled": true
   },
   "outputs": [
    {
     "data": {
      "text/html": [
       "<div>\n",
       "<style scoped>\n",
       "    .dataframe tbody tr th:only-of-type {\n",
       "        vertical-align: middle;\n",
       "    }\n",
       "\n",
       "    .dataframe tbody tr th {\n",
       "        vertical-align: top;\n",
       "    }\n",
       "\n",
       "    .dataframe thead th {\n",
       "        text-align: right;\n",
       "    }\n",
       "</style>\n",
       "<table border=\"1\" class=\"dataframe\">\n",
       "  <thead>\n",
       "    <tr style=\"text-align: right;\">\n",
       "      <th></th>\n",
       "      <th>email_text</th>\n",
       "      <th>email_version</th>\n",
       "      <th>hour</th>\n",
       "      <th>weekday</th>\n",
       "      <th>user_country</th>\n",
       "      <th>user_past_purchases</th>\n",
       "    </tr>\n",
       "    <tr>\n",
       "      <th>email_id</th>\n",
       "      <th></th>\n",
       "      <th></th>\n",
       "      <th></th>\n",
       "      <th></th>\n",
       "      <th></th>\n",
       "      <th></th>\n",
       "    </tr>\n",
       "  </thead>\n",
       "  <tbody>\n",
       "    <tr>\n",
       "      <th>583654</th>\n",
       "      <td>short_email</td>\n",
       "      <td>personalized</td>\n",
       "      <td>18</td>\n",
       "      <td>Tuesday</td>\n",
       "      <td>US</td>\n",
       "      <td>2</td>\n",
       "    </tr>\n",
       "    <tr>\n",
       "      <th>174062</th>\n",
       "      <td>long_email</td>\n",
       "      <td>generic</td>\n",
       "      <td>3</td>\n",
       "      <td>Monday</td>\n",
       "      <td>ES</td>\n",
       "      <td>1</td>\n",
       "    </tr>\n",
       "    <tr>\n",
       "      <th>932884</th>\n",
       "      <td>long_email</td>\n",
       "      <td>generic</td>\n",
       "      <td>8</td>\n",
       "      <td>Friday</td>\n",
       "      <td>UK</td>\n",
       "      <td>2</td>\n",
       "    </tr>\n",
       "    <tr>\n",
       "      <th>640870</th>\n",
       "      <td>short_email</td>\n",
       "      <td>generic</td>\n",
       "      <td>5</td>\n",
       "      <td>Monday</td>\n",
       "      <td>US</td>\n",
       "      <td>3</td>\n",
       "    </tr>\n",
       "    <tr>\n",
       "      <th>551977</th>\n",
       "      <td>short_email</td>\n",
       "      <td>personalized</td>\n",
       "      <td>14</td>\n",
       "      <td>Tuesday</td>\n",
       "      <td>US</td>\n",
       "      <td>3</td>\n",
       "    </tr>\n",
       "    <tr>\n",
       "      <th>768600</th>\n",
       "      <td>short_email</td>\n",
       "      <td>personalized</td>\n",
       "      <td>10</td>\n",
       "      <td>Friday</td>\n",
       "      <td>US</td>\n",
       "      <td>5</td>\n",
       "    </tr>\n",
       "    <tr>\n",
       "      <th>957480</th>\n",
       "      <td>short_email</td>\n",
       "      <td>generic</td>\n",
       "      <td>12</td>\n",
       "      <td>Wednesday</td>\n",
       "      <td>US</td>\n",
       "      <td>8</td>\n",
       "    </tr>\n",
       "    <tr>\n",
       "      <th>120313</th>\n",
       "      <td>short_email</td>\n",
       "      <td>personalized</td>\n",
       "      <td>7</td>\n",
       "      <td>Friday</td>\n",
       "      <td>UK</td>\n",
       "      <td>1</td>\n",
       "    </tr>\n",
       "    <tr>\n",
       "      <th>791566</th>\n",
       "      <td>short_email</td>\n",
       "      <td>personalized</td>\n",
       "      <td>18</td>\n",
       "      <td>Wednesday</td>\n",
       "      <td>FR</td>\n",
       "      <td>0</td>\n",
       "    </tr>\n",
       "    <tr>\n",
       "      <th>767024</th>\n",
       "      <td>short_email</td>\n",
       "      <td>personalized</td>\n",
       "      <td>4</td>\n",
       "      <td>Friday</td>\n",
       "      <td>ES</td>\n",
       "      <td>3</td>\n",
       "    </tr>\n",
       "  </tbody>\n",
       "</table>\n",
       "</div>"
      ],
      "text/plain": [
       "           email_text email_version  hour    weekday user_country  \\\n",
       "email_id                                                            \n",
       "583654    short_email  personalized    18    Tuesday           US   \n",
       "174062     long_email       generic     3     Monday           ES   \n",
       "932884     long_email       generic     8     Friday           UK   \n",
       "640870    short_email       generic     5     Monday           US   \n",
       "551977    short_email  personalized    14    Tuesday           US   \n",
       "768600    short_email  personalized    10     Friday           US   \n",
       "957480    short_email       generic    12  Wednesday           US   \n",
       "120313    short_email  personalized     7     Friday           UK   \n",
       "791566    short_email  personalized    18  Wednesday           FR   \n",
       "767024    short_email  personalized     4     Friday           ES   \n",
       "\n",
       "          user_past_purchases  \n",
       "email_id                       \n",
       "583654                      2  \n",
       "174062                      1  \n",
       "932884                      2  \n",
       "640870                      3  \n",
       "551977                      3  \n",
       "768600                      5  \n",
       "957480                      8  \n",
       "120313                      1  \n",
       "791566                      0  \n",
       "767024                      3  "
      ]
     },
     "execution_count": 3,
     "metadata": {},
     "output_type": "execute_result"
    }
   ],
   "source": [
    "emails.sample(10)"
   ]
  },
  {
   "cell_type": "code",
   "execution_count": 4,
   "id": "49437e8d",
   "metadata": {},
   "outputs": [
    {
     "data": {
      "text/plain": [
       "email_text             0\n",
       "email_version          0\n",
       "hour                   0\n",
       "weekday                0\n",
       "user_country           0\n",
       "user_past_purchases    0\n",
       "dtype: int64"
      ]
     },
     "execution_count": 4,
     "metadata": {},
     "output_type": "execute_result"
    }
   ],
   "source": [
    "#查看缺失情况\n",
    "emails.isnull().sum()"
   ]
  },
  {
   "cell_type": "code",
   "execution_count": 5,
   "id": "e507443f",
   "metadata": {},
   "outputs": [
    {
     "name": "stdout",
     "output_type": "stream",
     "text": [
      "email_text\n",
      "{'short_email', 'long_email'}\n",
      "email_version\n",
      "{'generic', 'personalized'}\n",
      "weekday\n",
      "{'Thursday', 'Sunday', 'Wednesday', 'Monday', 'Tuesday', 'Saturday', 'Friday'}\n",
      "user_country\n",
      "{'FR', 'UK', 'US', 'ES'}\n"
     ]
    }
   ],
   "source": [
    "#检验数据取值情况,没有错写等问题\n",
    "ca_feature=list(emails.select_dtypes(include=['object']).columns)\n",
    "for i in ca_feature:\n",
    "    print(i)\n",
    "    print(set(emails[i]))"
   ]
  },
  {
   "cell_type": "code",
   "execution_count": 6,
   "id": "cd0f4f72",
   "metadata": {},
   "outputs": [],
   "source": [
    "# 将取值具有大小意义的类别型变量数据转变为数值型映射\n",
    "emails['paragraph']=np.where(emails.email_text=='short_email',2,4)\n",
    "del emails['email_text']\n",
    "\n",
    "emails['weekday']=emails.weekday.map({\"Monday\":1,\"Tuesday\":2,\"Wednesday\":3,\n",
    "                                      \"Thursday\":4,\"Friday\":5,\"Saturday\":6,\"Sunday\":7})\n",
    "\n",
    "emails[\"is_personal\"] = (emails.email_version == \"personalized\").astype(np.int_)\n",
    "del emails[\"email_version\"]\n",
    "\n",
    "emails.rename(columns={'user_past_purchases':'purchases','user_country':'country'},inplace=True)"
   ]
  },
  {
   "cell_type": "code",
   "execution_count": 7,
   "id": "d1a526a0",
   "metadata": {},
   "outputs": [],
   "source": [
    "emails['response']='recived'\n",
    "\n",
    "open_users = pd.read_csv(r\"D:\\data\\email_opened_table.csv\").email_id\n",
    "emails.loc[open_users,\"response\"] = \"opened\"\n",
    "\n",
    "click_users = pd.read_csv(r\"D:\\data\\link_clicked_table.csv\").email_id\n",
    "emails.loc[click_users,\"response\"] = \"clicked\""
   ]
  },
  {
   "cell_type": "code",
   "execution_count": 8,
   "id": "bbe0e399",
   "metadata": {},
   "outputs": [
    {
     "data": {
      "text/html": [
       "<div>\n",
       "<style scoped>\n",
       "    .dataframe tbody tr th:only-of-type {\n",
       "        vertical-align: middle;\n",
       "    }\n",
       "\n",
       "    .dataframe tbody tr th {\n",
       "        vertical-align: top;\n",
       "    }\n",
       "\n",
       "    .dataframe thead th {\n",
       "        text-align: right;\n",
       "    }\n",
       "</style>\n",
       "<table border=\"1\" class=\"dataframe\">\n",
       "  <thead>\n",
       "    <tr style=\"text-align: right;\">\n",
       "      <th></th>\n",
       "      <th>hour</th>\n",
       "      <th>weekday</th>\n",
       "      <th>country</th>\n",
       "      <th>purchases</th>\n",
       "      <th>paragraph</th>\n",
       "      <th>is_personal</th>\n",
       "      <th>response</th>\n",
       "    </tr>\n",
       "    <tr>\n",
       "      <th>email_id</th>\n",
       "      <th></th>\n",
       "      <th></th>\n",
       "      <th></th>\n",
       "      <th></th>\n",
       "      <th></th>\n",
       "      <th></th>\n",
       "      <th></th>\n",
       "    </tr>\n",
       "  </thead>\n",
       "  <tbody>\n",
       "    <tr>\n",
       "      <th>580370</th>\n",
       "      <td>9</td>\n",
       "      <td>5</td>\n",
       "      <td>US</td>\n",
       "      <td>7</td>\n",
       "      <td>2</td>\n",
       "      <td>0</td>\n",
       "      <td>recived</td>\n",
       "    </tr>\n",
       "    <tr>\n",
       "      <th>310335</th>\n",
       "      <td>9</td>\n",
       "      <td>1</td>\n",
       "      <td>US</td>\n",
       "      <td>0</td>\n",
       "      <td>4</td>\n",
       "      <td>1</td>\n",
       "      <td>recived</td>\n",
       "    </tr>\n",
       "    <tr>\n",
       "      <th>409716</th>\n",
       "      <td>5</td>\n",
       "      <td>6</td>\n",
       "      <td>ES</td>\n",
       "      <td>5</td>\n",
       "      <td>4</td>\n",
       "      <td>0</td>\n",
       "      <td>recived</td>\n",
       "    </tr>\n",
       "    <tr>\n",
       "      <th>481894</th>\n",
       "      <td>4</td>\n",
       "      <td>5</td>\n",
       "      <td>US</td>\n",
       "      <td>8</td>\n",
       "      <td>4</td>\n",
       "      <td>1</td>\n",
       "      <td>recived</td>\n",
       "    </tr>\n",
       "    <tr>\n",
       "      <th>323778</th>\n",
       "      <td>7</td>\n",
       "      <td>7</td>\n",
       "      <td>US</td>\n",
       "      <td>1</td>\n",
       "      <td>2</td>\n",
       "      <td>0</td>\n",
       "      <td>recived</td>\n",
       "    </tr>\n",
       "    <tr>\n",
       "      <th>138414</th>\n",
       "      <td>8</td>\n",
       "      <td>5</td>\n",
       "      <td>UK</td>\n",
       "      <td>8</td>\n",
       "      <td>2</td>\n",
       "      <td>0</td>\n",
       "      <td>recived</td>\n",
       "    </tr>\n",
       "    <tr>\n",
       "      <th>62823</th>\n",
       "      <td>18</td>\n",
       "      <td>1</td>\n",
       "      <td>FR</td>\n",
       "      <td>8</td>\n",
       "      <td>4</td>\n",
       "      <td>0</td>\n",
       "      <td>recived</td>\n",
       "    </tr>\n",
       "    <tr>\n",
       "      <th>561766</th>\n",
       "      <td>12</td>\n",
       "      <td>5</td>\n",
       "      <td>US</td>\n",
       "      <td>4</td>\n",
       "      <td>4</td>\n",
       "      <td>0</td>\n",
       "      <td>recived</td>\n",
       "    </tr>\n",
       "    <tr>\n",
       "      <th>39530</th>\n",
       "      <td>5</td>\n",
       "      <td>5</td>\n",
       "      <td>UK</td>\n",
       "      <td>8</td>\n",
       "      <td>2</td>\n",
       "      <td>0</td>\n",
       "      <td>recived</td>\n",
       "    </tr>\n",
       "    <tr>\n",
       "      <th>746863</th>\n",
       "      <td>1</td>\n",
       "      <td>1</td>\n",
       "      <td>FR</td>\n",
       "      <td>1</td>\n",
       "      <td>2</td>\n",
       "      <td>0</td>\n",
       "      <td>recived</td>\n",
       "    </tr>\n",
       "  </tbody>\n",
       "</table>\n",
       "</div>"
      ],
      "text/plain": [
       "          hour  weekday country  purchases  paragraph  is_personal response\n",
       "email_id                                                                   \n",
       "580370       9        5      US          7          2            0  recived\n",
       "310335       9        1      US          0          4            1  recived\n",
       "409716       5        6      ES          5          4            0  recived\n",
       "481894       4        5      US          8          4            1  recived\n",
       "323778       7        7      US          1          2            0  recived\n",
       "138414       8        5      UK          8          2            0  recived\n",
       "62823       18        1      FR          8          4            0  recived\n",
       "561766      12        5      US          4          4            0  recived\n",
       "39530        5        5      UK          8          2            0  recived\n",
       "746863       1        1      FR          1          2            0  recived"
      ]
     },
     "execution_count": 8,
     "metadata": {},
     "output_type": "execute_result"
    }
   ],
   "source": [
    "emails.sample(10)"
   ]
  },
  {
   "cell_type": "code",
   "execution_count": 9,
   "id": "0f36ccaa",
   "metadata": {},
   "outputs": [],
   "source": [
    "emails.to_csv(r\"D:\\data\\clean_emails.csv\",index_label=\"email_id\")"
   ]
  },
  {
   "cell_type": "markdown",
   "id": "78a2eb61",
   "metadata": {},
   "source": [
    "## question 1\n",
    "* <span style='color:blue;font-weight:bold'>What percentage of users opened the email?</span>\n",
    "* <span style='color:blue;font-weight:bold'>what percentage clicked on the link within the email?</span>"
   ]
  },
  {
   "cell_type": "code",
   "execution_count": 10,
   "id": "731e8d97",
   "metadata": {},
   "outputs": [
    {
     "name": "stdout",
     "output_type": "stream",
     "text": [
      "Opened user percentage:    10.3450%\n",
      "Clicked user percentage:    2.1190%\n"
     ]
    }
   ],
   "source": [
    "print('{0:25s} {1:>8.4f}%'.format('Opened user percentage:', len(open_users)/len(emails) * 100))\n",
    "print('{0:25s} {1:>8.4f}%'.format('Clicked user percentage:', len(click_users)/len(emails) * 100))"
   ]
  },
  {
   "cell_type": "markdown",
   "id": "59680b55",
   "metadata": {},
   "source": [
    "## question 2\n",
    "* <span style='color:blue;font-weight:bold'>interesting pattern on how the email campaign performed for diﬀerent segments of users</span>"
   ]
  },
  {
   "cell_type": "markdown",
   "id": "6dfda91b",
   "metadata": {},
   "source": [
    "### Visualization of `purhases`"
   ]
  },
  {
   "cell_type": "code",
   "execution_count": 11,
   "id": "4241e3ac",
   "metadata": {},
   "outputs": [],
   "source": [
    "def count_result_ratio(df):\n",
    "    counts = df.response.value_counts(normalize=True)\n",
    "    counts['total'] = df.shape[0]\n",
    "    return counts\n",
    "\n",
    "def grp_count_plotbar(key):\n",
    "    grpresult = emails.groupby(key).apply(count_result_ratio)\n",
    "    fig = plt.figure(figsize=(10,7))\n",
    "    data=grpresult.loc[:,['clicked']].sort_values(by='clicked',ascending=False)\n",
    "    sns.barplot(data=data.T, palette = \"Set1\")\n",
    "    plt.xlabel('{}'.format(str.capitalize(key)))\n",
    "    plt.ylabel(\"Click Ratio\")\n",
    "    plt.title('Click ratio vs. {}'.format(str.capitalize(key)))\n",
    "    return grpresult"
   ]
  },
  {
   "cell_type": "code",
   "execution_count": 12,
   "id": "acbaf3d1",
   "metadata": {},
   "outputs": [],
   "source": [
    "grpby_purchase = emails.groupby(\"purchases\").apply(count_result_ratio).unstack()\n",
    "grpby_purchase.fillna(value=0,inplace=True)"
   ]
  },
  {
   "cell_type": "code",
   "execution_count": 13,
   "id": "b383ea5c",
   "metadata": {},
   "outputs": [
    {
     "data": {
      "text/plain": [
       "Text(0.5, 1.0, 'Click Ratio vs Purchase')"
      ]
     },
     "execution_count": 13,
     "metadata": {},
     "output_type": "execute_result"
    },
    {
     "data": {
      "image/png": "[encoded data removed]",
      "text/plain": [
       "<Figure size 720x504 with 1 Axes>"
      ]
     },
     "metadata": {
      "needs_background": "light"
     },
     "output_type": "display_data"
    }
   ],
   "source": [
    "fig = plt.figure(figsize=(10,7))\n",
    "grpby_purchase['total_open']=grpby_purchase['opened']+grpby_purchase['clicked']\n",
    "sns.lineplot(data=grpby_purchase.drop(['total','recived','opened'],axis=1),palette=\"Set1\")\n",
    "plt.xlabel(\"Purchase Time\")\n",
    "plt.ylabel(\"Click Ratio\")\n",
    "plt.title(\"Click Ratio vs Purchase\")"
   ]
  },
  {
   "cell_type": "markdown",
   "id": "793c7e1b",
   "metadata": {},
   "source": [
    "<span style='color:orange;font-weight:bold;font-size:1.2em'>总体来看，以往消费次数越多的消费者，越容易打开邮件和点击连接"
   ]
  },
  {
   "cell_type": "markdown",
   "id": "fd8294da",
   "metadata": {},
   "source": [
    "### Visualization of `country`"
   ]
  },
  {
   "cell_type": "code",
   "execution_count": 14,
   "id": "a749921c",
   "metadata": {},
   "outputs": [
    {
     "data": {
      "text/html": [
       "<div>\n",
       "<style scoped>\n",
       "    .dataframe tbody tr th:only-of-type {\n",
       "        vertical-align: middle;\n",
       "    }\n",
       "\n",
       "    .dataframe tbody tr th {\n",
       "        vertical-align: top;\n",
       "    }\n",
       "\n",
       "    .dataframe thead th {\n",
       "        text-align: right;\n",
       "    }\n",
       "</style>\n",
       "<table border=\"1\" class=\"dataframe\">\n",
       "  <thead>\n",
       "    <tr style=\"text-align: right;\">\n",
       "      <th>response</th>\n",
       "      <th>recived</th>\n",
       "      <th>opened</th>\n",
       "      <th>clicked</th>\n",
       "      <th>total</th>\n",
       "    </tr>\n",
       "    <tr>\n",
       "      <th>country</th>\n",
       "      <th></th>\n",
       "      <th></th>\n",
       "      <th></th>\n",
       "      <th></th>\n",
       "    </tr>\n",
       "  </thead>\n",
       "  <tbody>\n",
       "    <tr>\n",
       "      <th>ES</th>\n",
       "      <td>0.960570</td>\n",
       "      <td>0.031103</td>\n",
       "      <td>0.008327</td>\n",
       "      <td>9967.0</td>\n",
       "    </tr>\n",
       "    <tr>\n",
       "      <th>FR</th>\n",
       "      <td>0.958779</td>\n",
       "      <td>0.033217</td>\n",
       "      <td>0.008004</td>\n",
       "      <td>9995.0</td>\n",
       "    </tr>\n",
       "    <tr>\n",
       "      <th>UK</th>\n",
       "      <td>0.879282</td>\n",
       "      <td>0.096043</td>\n",
       "      <td>0.024675</td>\n",
       "      <td>19939.0</td>\n",
       "    </tr>\n",
       "    <tr>\n",
       "      <th>US</th>\n",
       "      <td>0.880481</td>\n",
       "      <td>0.095160</td>\n",
       "      <td>0.024360</td>\n",
       "      <td>60099.0</td>\n",
       "    </tr>\n",
       "  </tbody>\n",
       "</table>\n",
       "</div>"
      ],
      "text/plain": [
       "response   recived    opened   clicked    total\n",
       "country                                        \n",
       "ES        0.960570  0.031103  0.008327   9967.0\n",
       "FR        0.958779  0.033217  0.008004   9995.0\n",
       "UK        0.879282  0.096043  0.024675  19939.0\n",
       "US        0.880481  0.095160  0.024360  60099.0"
      ]
     },
     "execution_count": 14,
     "metadata": {},
     "output_type": "execute_result"
    },
    {
     "data": {
      "image/png": "[encoded data removed]",
      "text/plain": [
       "<Figure size 720x504 with 1 Axes>"
      ]
     },
     "metadata": {
      "needs_background": "light"
     },
     "output_type": "display_data"
    }
   ],
   "source": [
    "grp_count_plotbar('country')"
   ]
  },
  {
   "cell_type": "markdown",
   "id": "69885828",
   "metadata": {},
   "source": [
    "<span style='color:orange;font-weight:bold;font-size:1.2em'>从图上可以发现美国和英国的链接点击率要明显高于法国和西班牙，可能存在翻译问题，所以导致非英语国家的用户点击率不高"
   ]
  },
  {
   "cell_type": "markdown",
   "id": "5810273f",
   "metadata": {},
   "source": [
    "### Visualization of `is_personal`"
   ]
  },
  {
   "cell_type": "code",
   "execution_count": 15,
   "id": "f90eac72",
   "metadata": {},
   "outputs": [
    {
     "data": {
      "text/html": [
       "<div>\n",
       "<style scoped>\n",
       "    .dataframe tbody tr th:only-of-type {\n",
       "        vertical-align: middle;\n",
       "    }\n",
       "\n",
       "    .dataframe tbody tr th {\n",
       "        vertical-align: top;\n",
       "    }\n",
       "\n",
       "    .dataframe thead th {\n",
       "        text-align: right;\n",
       "    }\n",
       "</style>\n",
       "<table border=\"1\" class=\"dataframe\">\n",
       "  <thead>\n",
       "    <tr style=\"text-align: right;\">\n",
       "      <th>response</th>\n",
       "      <th>recived</th>\n",
       "      <th>opened</th>\n",
       "      <th>clicked</th>\n",
       "      <th>total</th>\n",
       "    </tr>\n",
       "    <tr>\n",
       "      <th>is_personal</th>\n",
       "      <th></th>\n",
       "      <th></th>\n",
       "      <th></th>\n",
       "      <th></th>\n",
       "    </tr>\n",
       "  </thead>\n",
       "  <tbody>\n",
       "    <tr>\n",
       "      <th>0</th>\n",
       "      <td>0.920034</td>\n",
       "      <td>0.064829</td>\n",
       "      <td>0.015137</td>\n",
       "      <td>50209.0</td>\n",
       "    </tr>\n",
       "    <tr>\n",
       "      <th>1</th>\n",
       "      <td>0.871864</td>\n",
       "      <td>0.100842</td>\n",
       "      <td>0.027294</td>\n",
       "      <td>49791.0</td>\n",
       "    </tr>\n",
       "  </tbody>\n",
       "</table>\n",
       "</div>"
      ],
      "text/plain": [
       "response      recived    opened   clicked    total\n",
       "is_personal                                       \n",
       "0            0.920034  0.064829  0.015137  50209.0\n",
       "1            0.871864  0.100842  0.027294  49791.0"
      ]
     },
     "execution_count": 15,
     "metadata": {},
     "output_type": "execute_result"
    },
    {
     "data": {
      "image/png": "[encoded data removed]",
      "text/plain": [
       "<Figure size 720x504 with 1 Axes>"
      ]
     },
     "metadata": {
      "needs_background": "light"
     },
     "output_type": "display_data"
    }
   ],
   "source": [
    "grp_count_plotbar('is_personal')"
   ]
  },
  {
   "cell_type": "markdown",
   "id": "0380afb8",
   "metadata": {},
   "source": [
    "<span style='color:orange;font-weight:bold;font-size:1.2em'>从图上可以发现，定制的邮件链接点击率会明显高于通用的邮件"
   ]
  },
  {
   "cell_type": "markdown",
   "id": "241bc5f9",
   "metadata": {},
   "source": [
    "### Visualization of `weekday`"
   ]
  },
  {
   "cell_type": "code",
   "execution_count": 16,
   "id": "03302c8f",
   "metadata": {},
   "outputs": [
    {
     "data": {
      "text/plain": [
       "Text(0.5, 1.0, 'Open ratio vs. Weekday')"
      ]
     },
     "execution_count": 16,
     "metadata": {},
     "output_type": "execute_result"
    },
    {
     "data": {
      "image/png": "[encoded data removed]",
      "text/plain": [
       "<Figure size 1296x432 with 2 Axes>"
      ]
     },
     "metadata": {
      "needs_background": "light"
     },
     "output_type": "display_data"
    }
   ],
   "source": [
    "key= 'weekday'\n",
    "grpresult = emails.groupby(key).apply(count_result_ratio)\n",
    "fig, ax = plt.subplots(nrows=1, ncols=2, figsize=(18, 6))\n",
    "sns.barplot(data=grpresult.loc[:,['clicked']].T, palette = \"Set1\",ax=ax[0])\n",
    "ax[0].set_xlabel('{}'.format(str.capitalize(key)))\n",
    "ax[0].set_ylabel(\"Click Ratio\")\n",
    "ax[0].set_title('Click ratio vs. {}'.format(str.capitalize(key)))\n",
    "\n",
    "grpresult['total_open']=grpresult['opened']+grpresult['clicked']\n",
    "sns.barplot(data=grpresult.loc[:,['total_open']].T, palette = \"Set1\",ax=ax[1])\n",
    "ax[1].set_xlabel('{}'.format(str.capitalize(key)))\n",
    "ax[1].set_ylabel(\"Open Ratio\")\n",
    "ax[1].set_title('Open ratio vs. {}'.format(str.capitalize(key)))"
   ]
  },
  {
   "cell_type": "markdown",
   "id": "90604a09",
   "metadata": {},
   "source": [
    "<span style='color:orange;font-weight:bold;font-size:1.2em'>从左图图可以发现，周五到周天发送的邮件链接点击率要明显低于周一到周四，对比右图，我们可以猜测，是因为人们通常不在周五-周天的时间检查邮件"
   ]
  },
  {
   "cell_type": "markdown",
   "id": "85b2cbc4",
   "metadata": {},
   "source": [
    "### Visualization of `hour`"
   ]
  },
  {
   "cell_type": "code",
   "execution_count": 18,
   "id": "bd575f6c",
   "metadata": {},
   "outputs": [
    {
     "data": {
      "text/plain": [
       "Text(0.5, 1.0, 'Open ratio vs. Hour')"
      ]
     },
     "execution_count": 18,
     "metadata": {},
     "output_type": "execute_result"
    },
    {
     "data": {
      "image/png": "[encoded data removed]",
      "text/plain": [
       "<Figure size 1296x432 with 2 Axes>"
      ]
     },
     "metadata": {
      "needs_background": "light"
     },
     "output_type": "display_data"
    }
   ],
   "source": [
    "key='hour'\n",
    "grpresult = emails.groupby(key).apply(count_result_ratio)\n",
    "fig, ax = plt.subplots(nrows=1, ncols=2, figsize=(18, 6))\n",
    "sns.barplot(data=grpresult.loc[:,['clicked']].T, palette = \"Set1\",ax=ax[0])\n",
    "ax[0].axhline(grpresult.clicked.mean(),color='darkgrey',linestyle='--')\n",
    "ax[0].set_xlabel('{}'.format(str.capitalize(key)))\n",
    "ax[0].set_ylabel(\"Click Ratio\")\n",
    "ax[0].set_title('Click ratio vs. {}'.format(str.capitalize(key)))\n",
    "\n",
    "grpresult['total_open']=grpresult['opened']+grpresult['clicked']\n",
    "sns.barplot(data=grpresult.loc[:,['total_open']].T, palette = \"Set1\",ax=ax[1])\n",
    "ax[1].axhline(grpresult.total_open.mean(),color='darkgrey',linestyle='--')\n",
    "ax[1].set_xlabel('{}'.format(str.capitalize(key)))\n",
    "ax[1].set_ylabel(\"Open Ratio\")\n",
    "ax[1].set_title('Open ratio vs. {}'.format(str.capitalize(key)))"
   ]
  },
  {
   "cell_type": "markdown",
   "id": "641c8aba",
   "metadata": {},
   "source": [
    "* <span style='color:orange;font-weight:bold;font-size:1.2em'>上图中灰线分别代表了链接点击率和邮件打开率的平均水平，从左图中我们可以看出9-12，15-16，23-24时间段的连接点击率要略高于平均水平，且在23-24时间段最高</span>\n",
    "* <span style='color:orange;font-weight:bold;font-size:1.2em'>对比右图中可以看出，一天之中9-17时以及晚上23-24时是人们检查邮件的概率略高，这时间的连接点击率要明显高于其他时间</span>"
   ]
  },
  {
   "cell_type": "markdown",
   "id": "0c7bc005",
   "metadata": {},
   "source": [
    "### Visualization of `paragraph`"
   ]
  },
  {
   "cell_type": "code",
   "execution_count": 19,
   "id": "349bfe26",
   "metadata": {},
   "outputs": [
    {
     "data": {
      "text/html": [
       "<div>\n",
       "<style scoped>\n",
       "    .dataframe tbody tr th:only-of-type {\n",
       "        vertical-align: middle;\n",
       "    }\n",
       "\n",
       "    .dataframe tbody tr th {\n",
       "        vertical-align: top;\n",
       "    }\n",
       "\n",
       "    .dataframe thead th {\n",
       "        text-align: right;\n",
       "    }\n",
       "</style>\n",
       "<table border=\"1\" class=\"dataframe\">\n",
       "  <thead>\n",
       "    <tr style=\"text-align: right;\">\n",
       "      <th>response</th>\n",
       "      <th>recived</th>\n",
       "      <th>opened</th>\n",
       "      <th>clicked</th>\n",
       "      <th>total</th>\n",
       "    </tr>\n",
       "    <tr>\n",
       "      <th>paragraph</th>\n",
       "      <th></th>\n",
       "      <th></th>\n",
       "      <th></th>\n",
       "      <th></th>\n",
       "    </tr>\n",
       "  </thead>\n",
       "  <tbody>\n",
       "    <tr>\n",
       "      <th>2</th>\n",
       "      <td>0.883698</td>\n",
       "      <td>0.092430</td>\n",
       "      <td>0.023872</td>\n",
       "      <td>49724.0</td>\n",
       "    </tr>\n",
       "    <tr>\n",
       "      <th>4</th>\n",
       "      <td>0.908266</td>\n",
       "      <td>0.073196</td>\n",
       "      <td>0.018538</td>\n",
       "      <td>50276.0</td>\n",
       "    </tr>\n",
       "  </tbody>\n",
       "</table>\n",
       "</div>"
      ],
      "text/plain": [
       "response    recived    opened   clicked    total\n",
       "paragraph                                       \n",
       "2          0.883698  0.092430  0.023872  49724.0\n",
       "4          0.908266  0.073196  0.018538  50276.0"
      ]
     },
     "execution_count": 19,
     "metadata": {},
     "output_type": "execute_result"
    },
    {
     "data": {
      "image/png": "[encoded data removed]",
      "text/plain": [
       "<Figure size 720x504 with 1 Axes>"
      ]
     },
     "metadata": {
      "needs_background": "light"
     },
     "output_type": "display_data"
    }
   ],
   "source": [
    "grp_count_plotbar('paragraph')"
   ]
  },
  {
   "cell_type": "markdown",
   "id": "de8acbce",
   "metadata": {},
   "source": [
    "<span style='color:orange;font-weight:bold;font-size:1.2em'>从上图可以发现，邮件的长度对于链接点击率没有太多的影响</span>"
   ]
  },
  {
   "cell_type": "markdown",
   "id": "c51b3697",
   "metadata": {},
   "source": [
    "### Visualization of `weekday & hour`"
   ]
  },
  {
   "cell_type": "markdown",
   "id": "ef8b1273",
   "metadata": {},
   "source": [
    "通过对于weekday的分析我们发现，周一到周四与周五到周天的用户行为较为不同，所以我们希望探索一下，是否在两个时间段内每天的行为也有所不同。"
   ]
  },
  {
   "cell_type": "code",
   "execution_count": 21,
   "id": "bdda6a64",
   "metadata": {},
   "outputs": [
    {
     "data": {
      "text/plain": [
       "Text(0.5, 1.0, 'Open ratio in Fri to Sun')"
      ]
     },
     "execution_count": 21,
     "metadata": {},
     "output_type": "execute_result"
    },
    {
     "data": {
      "image/png": "[encoded data removed]",
      "text/plain": [
       "<Figure size 1296x864 with 4 Axes>"
      ]
     },
     "metadata": {
      "needs_background": "light"
     },
     "output_type": "display_data"
    }
   ],
   "source": [
    "A=emails.copy()\n",
    "A['weekday_period']=np.where(A['weekday']>4,0,1)\n",
    "b=A[A['weekday_period']==0]\n",
    "c=A[A['weekday_period']==1]\n",
    "\n",
    "fig, ax = plt.subplots(nrows=2, ncols=2, figsize=(18, 12))\n",
    "grpresult1 = b.groupby('hour').apply(count_result_ratio)\n",
    "sns.barplot(data=grpresult1.loc[:,['clicked']].T, palette = \"Set1\",ax=ax[0][0])\n",
    "ax[0][0].axhline(grpresult1.clicked.mean(),color='darkgrey',linestyle='--')\n",
    "ax[0][0].set_xlabel('Hour')\n",
    "ax[0][0].set_ylabel(\"Click Ratio\")\n",
    "ax[0][0].set_title('Click ratio in Mon to Thu')\n",
    "\n",
    "grpresult2 = c.groupby('hour').apply(count_result_ratio)\n",
    "sns.barplot(data=grpresult2.loc[:,['clicked']].T, palette = \"Set1\",ax=ax[0][1])\n",
    "ax[0][1].axhline(grpresult2.clicked.mean(),color='darkgrey',linestyle='--')\n",
    "ax[0][1].set_xlabel('Hour')\n",
    "ax[0][1].set_ylabel(\"Click Ratio\")\n",
    "ax[0][1].set_title('Click ratio in Fri to Sun')\n",
    "\n",
    "grpresult1['total_open']=grpresult1['opened']+grpresult1['clicked']\n",
    "sns.barplot(data=grpresult1.loc[:,['total_open']].T, palette = \"Set1\",ax=ax[1][0])\n",
    "ax[1][0].axhline(grpresult1.total_open.mean(),color='darkgrey',linestyle='--')\n",
    "ax[1][0].set_xlabel('Hour')\n",
    "ax[1][0].set_ylabel(\"Open Ratio\")\n",
    "ax[1][0].set_title('Open ratio in Mon to Thu')\n",
    "\n",
    "grpresult2['total_open']=grpresult2['opened']+grpresult2['clicked']\n",
    "sns.barplot(data=grpresult2.loc[:,['total_open']].T, palette = \"Set1\",ax=ax[1][1])\n",
    "ax[1][1].axhline(grpresult2.total_open.mean(),color='darkgrey',linestyle='--')\n",
    "ax[1][1].set_xlabel('Hour')\n",
    "ax[1][1].set_ylabel(\"Open Ratio\")\n",
    "ax[1][1].set_title('Open ratio in Fri to Sun')"
   ]
  },
  {
   "cell_type": "markdown",
   "id": "7c51992d",
   "metadata": {},
   "source": [
    "* <span style='color:orange;font-weight:bold;font-size:1.2em'>通过对weekday以及hour的特征交叉，我们发现，周一到周四时，用户在9-18时以及24时，查看邮件的概率略高。但是9-18时对应的链接点击率并不高，可能是因为工作时间不太可能查看无关工作的链接，但是对应22-24时的链接点击率要么明显高于其他时间，这说明在周一到周四时间内晚间时间人们更可能点进链接。</span>\n",
    "* <span style='color:orange;font-weight:bold;font-size:1.2em'>而在周五到周天时间，链接点击率与邮件点开率变化基本一致，即在9-12，15-16，23-24时较高。"
   ]
  },
  {
   "cell_type": "markdown",
   "id": "bbd4aa21",
   "metadata": {},
   "source": [
    "## question 3\n",
    "* <span style='color:blue;font-weight:bold'>Build a model to optimize in future email campaigns to maximize the probability of\n",
    "users clicking on the link inside the email</span>"
   ]
  },
  {
   "cell_type": "code",
   "execution_count": 22,
   "id": "2c8f9be9",
   "metadata": {},
   "outputs": [],
   "source": [
    "# 特征相关性\n",
    "country_lbencoder=LabelEncoder()\n",
    "response_lbencoder=LabelEncoder()\n",
    "\n",
    "X=emails.copy()\n",
    "y=response_lbencoder.fit_transform(X.response)\n",
    "del X[\"response\"]\n",
    "\n",
    "X['country']=country_lbencoder.fit_transform(X.country)\n",
    "X['weekday_period']=np.where(X['weekday']>4,0,1)\n",
    "chi2score,_=chi2(X,y)\n",
    "fscore,_=f_classif(X,y)\n",
    "feature_scores=pd.DataFrame({\"chi2score\":chi2score,\"fscore\":fscore},index=X.columns)"
   ]
  },
  {
   "cell_type": "code",
   "execution_count": 23,
   "id": "ea51fc2e",
   "metadata": {},
   "outputs": [
    {
     "data": {
      "text/html": [
       "<div>\n",
       "<style scoped>\n",
       "    .dataframe tbody tr th:only-of-type {\n",
       "        vertical-align: middle;\n",
       "    }\n",
       "\n",
       "    .dataframe tbody tr th {\n",
       "        vertical-align: top;\n",
       "    }\n",
       "\n",
       "    .dataframe thead th {\n",
       "        text-align: right;\n",
       "    }\n",
       "</style>\n",
       "<table border=\"1\" class=\"dataframe\">\n",
       "  <thead>\n",
       "    <tr style=\"text-align: right;\">\n",
       "      <th></th>\n",
       "      <th>chi2score</th>\n",
       "      <th>fscore</th>\n",
       "    </tr>\n",
       "  </thead>\n",
       "  <tbody>\n",
       "    <tr>\n",
       "      <th>purchases</th>\n",
       "      <td>3448.795660</td>\n",
       "      <td>663.388596</td>\n",
       "    </tr>\n",
       "    <tr>\n",
       "      <th>country</th>\n",
       "      <td>378.554465</td>\n",
       "      <td>435.696911</td>\n",
       "    </tr>\n",
       "    <tr>\n",
       "      <th>is_personal</th>\n",
       "      <td>316.752872</td>\n",
       "      <td>317.427444</td>\n",
       "    </tr>\n",
       "    <tr>\n",
       "      <th>weekday</th>\n",
       "      <td>210.006087</td>\n",
       "      <td>105.002643</td>\n",
       "    </tr>\n",
       "    <tr>\n",
       "      <th>hour</th>\n",
       "      <td>147.815921</td>\n",
       "      <td>33.992047</td>\n",
       "    </tr>\n",
       "    <tr>\n",
       "      <th>weekday_period</th>\n",
       "      <td>142.636188</td>\n",
       "      <td>165.888232</td>\n",
       "    </tr>\n",
       "    <tr>\n",
       "      <th>paragraph</th>\n",
       "      <td>53.952439</td>\n",
       "      <td>81.209295</td>\n",
       "    </tr>\n",
       "  </tbody>\n",
       "</table>\n",
       "</div>"
      ],
      "text/plain": [
       "                  chi2score      fscore\n",
       "purchases       3448.795660  663.388596\n",
       "country          378.554465  435.696911\n",
       "is_personal      316.752872  317.427444\n",
       "weekday          210.006087  105.002643\n",
       "hour             147.815921   33.992047\n",
       "weekday_period   142.636188  165.888232\n",
       "paragraph         53.952439   81.209295"
      ]
     },
     "execution_count": 23,
     "metadata": {},
     "output_type": "execute_result"
    }
   ],
   "source": [
    "feature_scores.sort_values(by='chi2score',ascending=False)"
   ]
  },
  {
   "cell_type": "markdown",
   "id": "f2bd72e7",
   "metadata": {},
   "source": [
    "从上述结果中可以发现：\n",
    "* 重要特征有：purchases、country、is_personal\n",
    "* 较为不重要的特征有：weekday、hour、paragraph、weekday_period\n",
    "\n",
    "这一结果与前面的探索性分析结果基本吻合"
   ]
  },
  {
   "cell_type": "code",
   "execution_count": 24,
   "id": "b0289859",
   "metadata": {},
   "outputs": [],
   "source": [
    "# 选择特征--因为树模型可以输出特征重要性，所以暂时先将所有的特征选入进行考虑\n",
    "del X\n",
    "X=emails.copy()\n",
    "\n",
    "#目标变量\n",
    "y=(emails.response=='clicked').astype(np.int_)\n",
    "X['weekday_period']=np.where(X['weekday']>4,0,1)\n",
    "X=X.drop(['response','weekday','hour'],axis=1)\n",
    "#hour根据探索性分析结果进行分桶\n",
    "#bin=[min(X.hour)-1,8,16,21,24]\n",
    "#X['hour']=pd.cut(X.hour,bin,labels=['midnight','morning','afternoon','night'])\n",
    "# One-Hot-Encode country以及hour 特征\n",
    "#X1 = pd.get_dummies(X,columns=[\"country\",\"hour\"],drop_first=True)\n",
    "X1 = pd.get_dummies(X,columns=[\"country\"],drop_first=True)"
   ]
  },
  {
   "cell_type": "code",
   "execution_count": 25,
   "id": "00a55567",
   "metadata": {},
   "outputs": [],
   "source": [
    "#划分训练集和验证集\n",
    "X1train,X1test,y1train,y1test = train_test_split(X1,y,test_size=0.25,random_state = 2022)#已处理类别特征"
   ]
  },
  {
   "cell_type": "code",
   "execution_count": 26,
   "id": "4cd1f3f7",
   "metadata": {},
   "outputs": [
    {
     "name": "stdout",
     "output_type": "stream",
     "text": [
      "Train set shape: (75000, 7), positive ratio=0.021\n",
      "Test set shape: (25000, 7), positive ratio=0.022\n"
     ]
    }
   ],
   "source": [
    "print( 'Train set shape: {}, positive ratio={:.3f}'.format(X1train.shape,y1train.mean()))\n",
    "print( 'Test set shape: {}, positive ratio={:.3f}'.format(X1test.shape,y1test.mean()))"
   ]
  },
  {
   "cell_type": "markdown",
   "id": "03c04765",
   "metadata": {},
   "source": [
    "### XGBoost"
   ]
  },
  {
   "cell_type": "code",
   "execution_count": 27,
   "id": "de8f4eea",
   "metadata": {},
   "outputs": [],
   "source": [
    "#由于样本严重不均衡，所以评估指标不用准确率采用平均准确率或auc，这里选择auc\n",
    "param = {'objective': 'binary:logistic',\n",
    "         'eval_metric': 'auc'\n",
    "         }\n",
    "model1=XGBClassifier(**param)\n",
    "model1.fit(X1train,y1train)\n",
    "parameters=[{'subsample':[i/10.0 for i in range(6,10,2)],\n",
    "             'colsample_bytree':[i/10.0 for i in range(6,10,2)],\n",
    "            'max_depth':[i for i in range(5,10,2)],\n",
    "            'learning_rate': [0.1, 0.3, 0.6]}]\n",
    "grid=GridSearchCV(estimator=model1,param_grid=parameters,cv=10,scoring='roc_auc')\n",
    "grid_search=grid.fit(X1train,y1train)\n",
    "best_auc=grid_search.best_score_\n",
    "best_parameters=grid_search.best_params_"
   ]
  },
  {
   "cell_type": "code",
   "execution_count": 28,
   "id": "c7c5b4ee",
   "metadata": {},
   "outputs": [
    {
     "data": {
      "text/plain": [
       "(0.7341147375544507,\n",
       " {'colsample_bytree': 0.6,\n",
       "  'learning_rate': 0.1,\n",
       "  'max_depth': 5,\n",
       "  'subsample': 0.6})"
      ]
     },
     "execution_count": 28,
     "metadata": {},
     "output_type": "execute_result"
    }
   ],
   "source": [
    "best_auc,best_parameters"
   ]
  },
  {
   "cell_type": "code",
   "execution_count": 29,
   "id": "f6c0178b",
   "metadata": {},
   "outputs": [],
   "source": [
    "train_matrix = xgb.DMatrix(X1train,y1train)\n",
    "test_matrix = xgb.DMatrix(X1test)"
   ]
  },
  {
   "cell_type": "code",
   "execution_count": 30,
   "id": "b509b6aa",
   "metadata": {},
   "outputs": [
    {
     "name": "stdout",
     "output_type": "stream",
     "text": [
      "[16:36:51] WARNING: C:/buildkite-agent/builds/buildkite-windows-cpu-autoscaling-group-i-03de431ba26204c4d-1/xgboost/xgboost-ci-windows/src/learner.cc:767: \n",
      "Parameters: { \"early_stopping_rounds\", \"num_rounds\" } are not used.\n",
      "\n",
      "[16:36:51] WARNING: C:/buildkite-agent/builds/buildkite-windows-cpu-autoscaling-group-i-03de431ba26204c4d-1/xgboost/xgboost-ci-windows/src/learner.cc:767: \n",
      "Parameters: { \"early_stopping_rounds\", \"num_rounds\" } are not used.\n",
      "\n",
      "[16:36:51] WARNING: C:/buildkite-agent/builds/buildkite-windows-cpu-autoscaling-group-i-03de431ba26204c4d-1/xgboost/xgboost-ci-windows/src/learner.cc:767: \n",
      "Parameters: { \"early_stopping_rounds\", \"num_rounds\" } are not used.\n",
      "\n",
      "[16:36:51] WARNING: C:/buildkite-agent/builds/buildkite-windows-cpu-autoscaling-group-i-03de431ba26204c4d-1/xgboost/xgboost-ci-windows/src/learner.cc:767: \n",
      "Parameters: { \"early_stopping_rounds\", \"num_rounds\" } are not used.\n",
      "\n",
      "[16:36:51] WARNING: C:/buildkite-agent/builds/buildkite-windows-cpu-autoscaling-group-i-03de431ba26204c4d-1/xgboost/xgboost-ci-windows/src/learner.cc:767: \n",
      "Parameters: { \"early_stopping_rounds\", \"num_rounds\" } are not used.\n",
      "\n",
      "[0]\ttrain-auc:0.50000+0.00000\ttest-auc:0.50000+0.00000\n",
      "[1]\ttrain-auc:0.65079+0.04088\ttest-auc:0.65053+0.03747\n",
      "[2]\ttrain-auc:0.69395+0.00872\ttest-auc:0.69114+0.01190\n",
      "[3]\ttrain-auc:0.69618+0.00693\ttest-auc:0.69537+0.01473\n",
      "[4]\ttrain-auc:0.70635+0.00630\ttest-auc:0.70479+0.01958\n",
      "[5]\ttrain-auc:0.70906+0.00411\ttest-auc:0.70656+0.01944\n",
      "[6]\ttrain-auc:0.70938+0.00481\ttest-auc:0.70718+0.02255\n",
      "[7]\ttrain-auc:0.71134+0.00454\ttest-auc:0.70738+0.01952\n",
      "[8]\ttrain-auc:0.71724+0.00441\ttest-auc:0.71205+0.01689\n",
      "[9]\ttrain-auc:0.71967+0.00299\ttest-auc:0.71543+0.01650\n",
      "[10]\ttrain-auc:0.71871+0.00180\ttest-auc:0.71429+0.01739\n",
      "[11]\ttrain-auc:0.72091+0.00447\ttest-auc:0.71368+0.01824\n",
      "[12]\ttrain-auc:0.72557+0.00514\ttest-auc:0.71657+0.01818\n",
      "[13]\ttrain-auc:0.72839+0.00229\ttest-auc:0.71926+0.01645\n",
      "[14]\ttrain-auc:0.72797+0.00303\ttest-auc:0.71934+0.01670\n",
      "[15]\ttrain-auc:0.72834+0.00303\ttest-auc:0.72095+0.01570\n",
      "[16]\ttrain-auc:0.72937+0.00236\ttest-auc:0.72043+0.01447\n",
      "[17]\ttrain-auc:0.73107+0.00155\ttest-auc:0.72325+0.01442\n",
      "[18]\ttrain-auc:0.73237+0.00288\ttest-auc:0.72456+0.01370\n",
      "[19]\ttrain-auc:0.73355+0.00350\ttest-auc:0.72524+0.01269\n",
      "[20]\ttrain-auc:0.73407+0.00395\ttest-auc:0.72583+0.01169\n",
      "[21]\ttrain-auc:0.73526+0.00393\ttest-auc:0.72685+0.01265\n",
      "[22]\ttrain-auc:0.73523+0.00373\ttest-auc:0.72767+0.01262\n",
      "[23]\ttrain-auc:0.73496+0.00414\ttest-auc:0.72800+0.01239\n",
      "[24]\ttrain-auc:0.73490+0.00386\ttest-auc:0.72761+0.01241\n",
      "[25]\ttrain-auc:0.73584+0.00334\ttest-auc:0.72926+0.01223\n",
      "[26]\ttrain-auc:0.73648+0.00456\ttest-auc:0.72969+0.01166\n",
      "[27]\ttrain-auc:0.73663+0.00476\ttest-auc:0.72929+0.01114\n",
      "[28]\ttrain-auc:0.73750+0.00428\ttest-auc:0.72972+0.01061\n",
      "[29]\ttrain-auc:0.73774+0.00400\ttest-auc:0.73001+0.01099\n",
      "[30]\ttrain-auc:0.73886+0.00427\ttest-auc:0.72995+0.01144\n",
      "[31]\ttrain-auc:0.73923+0.00417\ttest-auc:0.73079+0.01118\n",
      "[32]\ttrain-auc:0.73976+0.00428\ttest-auc:0.73129+0.01091\n",
      "[33]\ttrain-auc:0.73983+0.00346\ttest-auc:0.73127+0.01081\n",
      "[34]\ttrain-auc:0.73988+0.00318\ttest-auc:0.73124+0.01113\n",
      "[35]\ttrain-auc:0.73962+0.00313\ttest-auc:0.73137+0.01102\n",
      "[36]\ttrain-auc:0.74048+0.00358\ttest-auc:0.73173+0.01027\n",
      "[37]\ttrain-auc:0.74038+0.00327\ttest-auc:0.73152+0.00997\n",
      "[38]\ttrain-auc:0.74118+0.00323\ttest-auc:0.73248+0.00914\n",
      "[39]\ttrain-auc:0.74107+0.00319\ttest-auc:0.73265+0.00904\n",
      "[40]\ttrain-auc:0.74157+0.00336\ttest-auc:0.73229+0.00951\n",
      "[41]\ttrain-auc:0.74201+0.00300\ttest-auc:0.73311+0.00931\n",
      "[42]\ttrain-auc:0.74199+0.00328\ttest-auc:0.73347+0.00941\n",
      "[43]\ttrain-auc:0.74263+0.00304\ttest-auc:0.73336+0.00959\n",
      "[44]\ttrain-auc:0.74304+0.00274\ttest-auc:0.73377+0.00962\n",
      "[45]\ttrain-auc:0.74346+0.00247\ttest-auc:0.73391+0.00932\n",
      "[46]\ttrain-auc:0.74351+0.00257\ttest-auc:0.73408+0.00894\n",
      "[47]\ttrain-auc:0.74366+0.00269\ttest-auc:0.73373+0.00920\n",
      "[48]\ttrain-auc:0.74379+0.00268\ttest-auc:0.73415+0.00896\n",
      "[49]\ttrain-auc:0.74429+0.00269\ttest-auc:0.73409+0.00920\n",
      "[50]\ttrain-auc:0.74446+0.00284\ttest-auc:0.73446+0.00891\n",
      "[51]\ttrain-auc:0.74477+0.00285\ttest-auc:0.73442+0.00916\n",
      "[52]\ttrain-auc:0.74517+0.00260\ttest-auc:0.73449+0.00913\n",
      "[53]\ttrain-auc:0.74539+0.00262\ttest-auc:0.73494+0.00891\n",
      "[54]\ttrain-auc:0.74553+0.00249\ttest-auc:0.73489+0.00869\n",
      "[55]\ttrain-auc:0.74564+0.00244\ttest-auc:0.73471+0.00855\n",
      "[56]\ttrain-auc:0.74581+0.00238\ttest-auc:0.73453+0.00861\n",
      "[57]\ttrain-auc:0.74587+0.00241\ttest-auc:0.73439+0.00868\n",
      "[58]\ttrain-auc:0.74601+0.00238\ttest-auc:0.73448+0.00899\n",
      "[59]\ttrain-auc:0.74615+0.00243\ttest-auc:0.73457+0.00882\n",
      "[60]\ttrain-auc:0.74644+0.00227\ttest-auc:0.73474+0.00898\n",
      "[61]\ttrain-auc:0.74642+0.00223\ttest-auc:0.73463+0.00913\n",
      "[62]\ttrain-auc:0.74650+0.00219\ttest-auc:0.73460+0.00908\n",
      "[63]\ttrain-auc:0.74669+0.00217\ttest-auc:0.73435+0.00937\n",
      "[64]\ttrain-auc:0.74682+0.00218\ttest-auc:0.73428+0.00961\n",
      "[65]\ttrain-auc:0.74699+0.00209\ttest-auc:0.73443+0.00995\n",
      "[66]\ttrain-auc:0.74705+0.00205\ttest-auc:0.73413+0.01037\n",
      "[67]\ttrain-auc:0.74722+0.00212\ttest-auc:0.73423+0.01009\n",
      "[68]\ttrain-auc:0.74726+0.00219\ttest-auc:0.73427+0.01025\n",
      "[69]\ttrain-auc:0.74723+0.00228\ttest-auc:0.73418+0.01007\n",
      "[70]\ttrain-auc:0.74737+0.00208\ttest-auc:0.73451+0.01016\n",
      "[71]\ttrain-auc:0.74735+0.00210\ttest-auc:0.73449+0.01009\n",
      "[72]\ttrain-auc:0.74747+0.00204\ttest-auc:0.73453+0.01002\n",
      "[73]\ttrain-auc:0.74761+0.00203\ttest-auc:0.73448+0.01004\n",
      "[74]\ttrain-auc:0.74781+0.00199\ttest-auc:0.73460+0.01004\n",
      "[75]\ttrain-auc:0.74793+0.00207\ttest-auc:0.73480+0.01007\n",
      "[76]\ttrain-auc:0.74805+0.00204\ttest-auc:0.73469+0.01011\n",
      "[77]\ttrain-auc:0.74810+0.00206\ttest-auc:0.73452+0.01014\n",
      "[78]\ttrain-auc:0.74816+0.00198\ttest-auc:0.73432+0.01010\n",
      "[79]\ttrain-auc:0.74821+0.00194\ttest-auc:0.73439+0.00994\n",
      "[80]\ttrain-auc:0.74826+0.00196\ttest-auc:0.73439+0.00999\n",
      "[81]\ttrain-auc:0.74829+0.00200\ttest-auc:0.73431+0.00998\n",
      "[82]\ttrain-auc:0.74840+0.00198\ttest-auc:0.73438+0.01006\n",
      "[83]\ttrain-auc:0.74850+0.00197\ttest-auc:0.73426+0.01009\n"
     ]
    }
   ],
   "source": [
    "params={'objective': 'binary:logistic',\n",
    "        'eval_metric': 'auc',\n",
    "       'colsample_bytree': 0.6,\n",
    "       'learning_rate': 0.1,\n",
    "       'max_depth': 5,\n",
    "       'subsample': 0.6\n",
    "         }\n",
    "seed=2022\n",
    "\n",
    "params[\"num_rounds\"] = 300\n",
    "params[\"early_stopping_rounds\"] = 30\n",
    "params['eta'] = 0.1\n",
    "\n",
    "cv_results = xgb.cv(params,train_matrix,\n",
    "                    num_boost_round = params[\"num_rounds\"],\n",
    "                    nfold = params.get('nfold',5),\n",
    "                    metrics = params['eval_metric'],\n",
    "                    early_stopping_rounds = params[\"early_stopping_rounds\"],\n",
    "                    verbose_eval = True,\n",
    "                    seed = seed)"
   ]
  },
  {
   "cell_type": "code",
   "execution_count": 31,
   "id": "c6e24adf",
   "metadata": {},
   "outputs": [
    {
     "name": "stdout",
     "output_type": "stream",
     "text": [
      "best number of trees: 54\n"
     ]
    }
   ],
   "source": [
    "n_best_trees = cv_results.shape[0]\n",
    "print (\"best number of trees: {}\".format(n_best_trees))"
   ]
  },
  {
   "cell_type": "code",
   "execution_count": 32,
   "id": "ccb4d216",
   "metadata": {},
   "outputs": [
    {
     "name": "stdout",
     "output_type": "stream",
     "text": [
      "[16:37:07] WARNING: C:/buildkite-agent/builds/buildkite-windows-cpu-autoscaling-group-i-03de431ba26204c4d-1/xgboost/xgboost-ci-windows/src/learner.cc:767: \n",
      "Parameters: { \"early_stopping_rounds\", \"num_rounds\" } are not used.\n",
      "\n",
      "[0]\ttrain-auc:0.50000\n",
      "[1]\ttrain-auc:0.50000\n",
      "[2]\ttrain-auc:0.66736\n",
      "[3]\ttrain-auc:0.70052\n",
      "[4]\ttrain-auc:0.70172\n",
      "[5]\ttrain-auc:0.70887\n",
      "[6]\ttrain-auc:0.71731\n"
     ]
    },
    {
     "name": "stderr",
     "output_type": "stream",
     "text": [
      "C:\\Users\\m1533\\AppData\\Roaming\\Python\\Python39\\site-packages\\xgboost\\core.py:617: FutureWarning: Pass `evals` as keyword args.\n",
      "  warnings.warn(msg, FutureWarning)\n"
     ]
    },
    {
     "name": "stdout",
     "output_type": "stream",
     "text": [
      "[7]\ttrain-auc:0.71474\n",
      "[8]\ttrain-auc:0.71777\n",
      "[9]\ttrain-auc:0.70995\n",
      "[10]\ttrain-auc:0.71971\n",
      "[11]\ttrain-auc:0.72238\n",
      "[12]\ttrain-auc:0.71926\n",
      "[13]\ttrain-auc:0.72227\n",
      "[14]\ttrain-auc:0.72463\n",
      "[15]\ttrain-auc:0.72950\n",
      "[16]\ttrain-auc:0.73216\n",
      "[17]\ttrain-auc:0.73345\n",
      "[18]\ttrain-auc:0.73259\n",
      "[19]\ttrain-auc:0.73375\n",
      "[20]\ttrain-auc:0.73336\n",
      "[21]\ttrain-auc:0.73335\n",
      "[22]\ttrain-auc:0.73276\n",
      "[23]\ttrain-auc:0.73316\n",
      "[24]\ttrain-auc:0.73354\n",
      "[25]\ttrain-auc:0.73314\n",
      "[26]\ttrain-auc:0.73367\n",
      "[27]\ttrain-auc:0.73530\n",
      "[28]\ttrain-auc:0.73751\n",
      "[29]\ttrain-auc:0.73979\n",
      "[30]\ttrain-auc:0.74082\n",
      "[31]\ttrain-auc:0.74057\n",
      "[32]\ttrain-auc:0.74083\n",
      "[33]\ttrain-auc:0.74100\n",
      "[34]\ttrain-auc:0.74117\n",
      "[35]\ttrain-auc:0.74071\n",
      "[36]\ttrain-auc:0.74040\n",
      "[37]\ttrain-auc:0.74022\n",
      "[38]\ttrain-auc:0.74036\n",
      "[39]\ttrain-auc:0.74075\n",
      "[40]\ttrain-auc:0.74094\n",
      "[41]\ttrain-auc:0.74121\n",
      "[42]\ttrain-auc:0.74124\n",
      "[43]\ttrain-auc:0.74231\n",
      "[44]\ttrain-auc:0.74314\n",
      "[45]\ttrain-auc:0.74368\n",
      "[46]\ttrain-auc:0.74350\n",
      "[47]\ttrain-auc:0.74337\n",
      "[48]\ttrain-auc:0.74344\n",
      "[49]\ttrain-auc:0.74349\n",
      "[50]\ttrain-auc:0.74339\n",
      "[51]\ttrain-auc:0.74342\n",
      "[52]\ttrain-auc:0.74403\n",
      "[53]\ttrain-auc:0.74393\n"
     ]
    }
   ],
   "source": [
    "watchlist = [(train_matrix, 'train')]\n",
    "gbt = xgb.train(params, train_matrix, n_best_trees,watchlist)"
   ]
  },
  {
   "cell_type": "code",
   "execution_count": 33,
   "id": "27e34789",
   "metadata": {},
   "outputs": [
    {
     "data": {
      "text/plain": [
       "<AxesSubplot:title={'center':'Feature importance'}, xlabel='F score', ylabel='Features'>"
      ]
     },
     "execution_count": 33,
     "metadata": {},
     "output_type": "execute_result"
    },
    {
     "data": {
      "image/png": "[encoded data removed]",
      "text/plain": [
       "<Figure size 432x288 with 1 Axes>"
      ]
     },
     "metadata": {
      "needs_background": "light"
     },
     "output_type": "display_data"
    }
   ],
   "source": [
    "# plot feature importances\n",
    "xgb.plot_importance(gbt)"
   ]
  },
  {
   "cell_type": "code",
   "execution_count": 34,
   "id": "ac938002",
   "metadata": {},
   "outputs": [
    {
     "name": "stdout",
     "output_type": "stream",
     "text": [
      "n_best_trees=54,xgboost parameters: \n"
     ]
    },
    {
     "data": {
      "text/plain": [
       "{'objective': 'binary:logistic',\n",
       " 'eval_metric': 'auc',\n",
       " 'colsample_bytree': 0.6,\n",
       " 'learning_rate': 0.1,\n",
       " 'max_depth': 5,\n",
       " 'subsample': 0.6,\n",
       " 'num_rounds': 300,\n",
       " 'early_stopping_rounds': 30,\n",
       " 'eta': 0.1}"
      ]
     },
     "execution_count": 34,
     "metadata": {},
     "output_type": "execute_result"
    }
   ],
   "source": [
    "print (\"n_best_trees={},xgboost parameters: \".format(n_best_trees))\n",
    "params"
   ]
  },
  {
   "cell_type": "code",
   "execution_count": 35,
   "id": "7707bc71",
   "metadata": {},
   "outputs": [],
   "source": [
    "#将训练集划分出验证集\n",
    "def validation_roc():\n",
    "    Xtrain_only,Xvalid,ytrain_only,yvalid = train_test_split(X1train,y1train,test_size=0.2,random_state=seed)\n",
    "    \n",
    "    train_only_matrix = xgb.DMatrix(Xtrain_only,ytrain_only)\n",
    "    valid_matrix = xgb.DMatrix(Xvalid)\n",
    "    \n",
    "    # retrain on training set\n",
    "    gbt_train_only = xgb.train(params, train_only_matrix, n_best_trees)\n",
    "    \n",
    "    # predict on validation set\n",
    "    yvalid_probas = gbt_train_only.predict(valid_matrix, ntree_limit=n_best_trees)\n",
    "    \n",
    "    d = {}\n",
    "    d['FPR'],d['TPR'],d['Threshold'] = roc_curve(yvalid,yvalid_probas)\n",
    "    return pd.DataFrame(d)"
   ]
  },
  {
   "cell_type": "code",
   "execution_count": 36,
   "id": "63779d99",
   "metadata": {},
   "outputs": [
    {
     "name": "stdout",
     "output_type": "stream",
     "text": [
      "[16:37:10] WARNING: C:/buildkite-agent/builds/buildkite-windows-cpu-autoscaling-group-i-03de431ba26204c4d-1/xgboost/xgboost-ci-windows/src/learner.cc:767: \n",
      "Parameters: { \"early_stopping_rounds\", \"num_rounds\" } are not used.\n",
      "\n"
     ]
    },
    {
     "name": "stderr",
     "output_type": "stream",
     "text": [
      "C:\\Users\\m1533\\AppData\\Roaming\\Python\\Python39\\site-packages\\xgboost\\core.py:122: UserWarning: ntree_limit is deprecated, use `iteration_range` or model slicing instead.\n",
      "  warnings.warn(\n"
     ]
    },
    {
     "data": {
      "text/plain": [
       "Text(0.5, 1.0, 'ROC Curve')"
      ]
     },
     "execution_count": 36,
     "metadata": {},
     "output_type": "execute_result"
    },
    {
     "data": {
      "image/png": "[encoded data removed]",
      "text/plain": [
       "<Figure size 720x504 with 1 Axes>"
      ]
     },
     "metadata": {
      "needs_background": "light"
     },
     "output_type": "display_data"
    }
   ],
   "source": [
    "roc_results = validation_roc()\n",
    "_ = plt.figure(figsize=(10,7))\n",
    "plt.plot(roc_results.FPR,roc_results.TPR)\n",
    "plt.xlabel(\"FPR\")\n",
    "plt.ylabel('TPR')\n",
    "plt.title('ROC Curve')"
   ]
  },
  {
   "cell_type": "code",
   "execution_count": 56,
   "id": "38e16ec3",
   "metadata": {},
   "outputs": [
    {
     "data": {
      "text/html": [
       "<div>\n",
       "<style scoped>\n",
       "    .dataframe tbody tr th:only-of-type {\n",
       "        vertical-align: middle;\n",
       "    }\n",
       "\n",
       "    .dataframe tbody tr th {\n",
       "        vertical-align: top;\n",
       "    }\n",
       "\n",
       "    .dataframe thead th {\n",
       "        text-align: right;\n",
       "    }\n",
       "</style>\n",
       "<table border=\"1\" class=\"dataframe\">\n",
       "  <thead>\n",
       "    <tr style=\"text-align: right;\">\n",
       "      <th></th>\n",
       "      <th>FPR</th>\n",
       "      <th>TPR</th>\n",
       "      <th>Threshold</th>\n",
       "    </tr>\n",
       "  </thead>\n",
       "  <tbody>\n",
       "    <tr>\n",
       "      <th>209</th>\n",
       "      <td>0.270077</td>\n",
       "      <td>0.608150</td>\n",
       "      <td>0.026925</td>\n",
       "    </tr>\n",
       "    <tr>\n",
       "      <th>210</th>\n",
       "      <td>0.270213</td>\n",
       "      <td>0.608150</td>\n",
       "      <td>0.026822</td>\n",
       "    </tr>\n",
       "    <tr>\n",
       "      <th>211</th>\n",
       "      <td>0.270894</td>\n",
       "      <td>0.608150</td>\n",
       "      <td>0.026758</td>\n",
       "    </tr>\n",
       "    <tr>\n",
       "      <th>212</th>\n",
       "      <td>0.274028</td>\n",
       "      <td>0.617555</td>\n",
       "      <td>0.026647</td>\n",
       "    </tr>\n",
       "    <tr>\n",
       "      <th>213</th>\n",
       "      <td>0.276616</td>\n",
       "      <td>0.623824</td>\n",
       "      <td>0.026532</td>\n",
       "    </tr>\n",
       "    <tr>\n",
       "      <th>214</th>\n",
       "      <td>0.278591</td>\n",
       "      <td>0.626959</td>\n",
       "      <td>0.026478</td>\n",
       "    </tr>\n",
       "    <tr>\n",
       "      <th>215</th>\n",
       "      <td>0.280839</td>\n",
       "      <td>0.626959</td>\n",
       "      <td>0.026099</td>\n",
       "    </tr>\n",
       "    <tr>\n",
       "      <th>216</th>\n",
       "      <td>0.281180</td>\n",
       "      <td>0.626959</td>\n",
       "      <td>0.025899</td>\n",
       "    </tr>\n",
       "    <tr>\n",
       "      <th>217</th>\n",
       "      <td>0.282338</td>\n",
       "      <td>0.630094</td>\n",
       "      <td>0.025802</td>\n",
       "    </tr>\n",
       "    <tr>\n",
       "      <th>218</th>\n",
       "      <td>0.285130</td>\n",
       "      <td>0.633229</td>\n",
       "      <td>0.025655</td>\n",
       "    </tr>\n",
       "    <tr>\n",
       "      <th>219</th>\n",
       "      <td>0.287378</td>\n",
       "      <td>0.633229</td>\n",
       "      <td>0.025596</td>\n",
       "    </tr>\n",
       "  </tbody>\n",
       "</table>\n",
       "</div>"
      ],
      "text/plain": [
       "          FPR       TPR  Threshold\n",
       "209  0.270077  0.608150   0.026925\n",
       "210  0.270213  0.608150   0.026822\n",
       "211  0.270894  0.608150   0.026758\n",
       "212  0.274028  0.617555   0.026647\n",
       "213  0.276616  0.623824   0.026532\n",
       "214  0.278591  0.626959   0.026478\n",
       "215  0.280839  0.626959   0.026099\n",
       "216  0.281180  0.626959   0.025899\n",
       "217  0.282338  0.630094   0.025802\n",
       "218  0.285130  0.633229   0.025655\n",
       "219  0.287378  0.633229   0.025596"
      ]
     },
     "execution_count": 56,
     "metadata": {},
     "output_type": "execute_result"
    }
   ],
   "source": [
    "#根据图像选择TPR>0.6以及<0.65\n",
    "roc_results.loc[(roc_results.TPR > 0.6) & (roc_results.TPR < 0.65),:]"
   ]
  },
  {
   "cell_type": "code",
   "execution_count": 54,
   "id": "1d4a9851",
   "metadata": {},
   "outputs": [],
   "source": [
    "pos_prob_threshold =0.026478\n",
    "def adjust_predict(matrix):\n",
    "    y_probas = model1.predict_proba(matrix)\n",
    "    return (y_probas[:,1] > pos_prob_threshold).astype(int)\n",
    "\n",
    "ytrain_pred = adjust_predict(X1train)\n",
    "ytest_pred = adjust_predict(X1test)"
   ]
  },
  {
   "cell_type": "code",
   "execution_count": 55,
   "id": "7911cf30",
   "metadata": {},
   "outputs": [
    {
     "name": "stdout",
     "output_type": "stream",
     "text": [
      "test precision: 4.75%\n",
      "test recall: 61.98%\n"
     ]
    }
   ],
   "source": [
    "print (\"test precision: {:.2f}%\".format(precision_score(y1test,ytest_pred) * 100))\n",
    "print (\"test recall: {:.2f}%\".format(recall_score(y1test,ytest_pred) * 100))"
   ]
  },
  {
   "cell_type": "markdown",
   "id": "8ee0760e",
   "metadata": {},
   "source": [
    "## question 4\n",
    "* <span style='color:blue;font-weight:bold'>By how much do you think your model would improve click through rate ( deﬁned as # of users who click on the link / total users who received the email)</span>"
   ]
  },
  {
   "cell_type": "code",
   "execution_count": 41,
   "id": "109e671a",
   "metadata": {},
   "outputs": [
    {
     "data": {
      "text/plain": [
       "#emails sent in old way    25000.00\n",
       "#emails sent in new way     7240.00\n",
       "saving percentage (%)         71.04\n",
       "dtype: float64"
      ]
     },
     "execution_count": 41,
     "metadata": {},
     "output_type": "execute_result"
    }
   ],
   "source": [
    "n_emails_old_sent = ytest_pred.shape[0]\n",
    "n_emails_new_sent = ytest_pred.sum()\n",
    "saving_percentage = 100 - n_emails_new_sent * 100.0/n_emails_old_sent\n",
    "pd.Series({'#emails sent in old way': n_emails_old_sent,\n",
    "           '#emails sent in new way': n_emails_new_sent,\n",
    "           'saving percentage (%)': saving_percentage})"
   ]
  },
  {
   "cell_type": "markdown",
   "id": "a40f8474",
   "metadata": {},
   "source": [
    "* <span style='color:orange;'>现模型只需要发送原来邮件总数的30%，但却涵盖了60%可能点击链接的有价值用户.</span>\n",
    "* <span style='color:orange;'>4.75% 接收到邮件的人会点开链接，是原本概率2.12%的2倍左右. </span> "
   ]
  },
  {
   "cell_type": "markdown",
   "id": "d7567870",
   "metadata": {},
   "source": [
    "<span style='color:blue;font-weight:bold'>How would you test that?</span>\n",
    "\n",
    "为了验证结论，我需要进行A/B test：\n",
    "1. 随机将用户分为两组，对照组和实验组。\n",
    "2. 对照组中，仍然使用旧的电子邮件活动策略，即只向对照组中的所有用户发送电子邮件。\n",
    "3.在实验组中，用我的模型来预测用户是否会点击链接。并且只向预测结果为阳性的用户发送电子邮件。\n",
    "4. 然后进行单尾t检验，检验实验组的总体比例是否高于对照组的总体比例。"
   ]
  },
  {
   "cell_type": "code",
   "execution_count": null,
   "id": "1c2217fb",
   "metadata": {},
   "outputs": [],
   "source": []
  }
 ],
 "metadata": {
  "kernelspec": {
   "display_name": "Python 3 (ipykernel)",
   "language": "python",
   "name": "python3"
  },
  "language_info": {
   "codemirror_mode": {
    "name": "ipython",
    "version": 3
   },
   "file_extension": ".py",
   "mimetype": "text/x-python",
   "name": "python",
   "nbconvert_exporter": "python",
   "pygments_lexer": "ipython3",
   "version": "3.9.12"
  },
  "toc": {
   "base_numbering": 1,
   "nav_menu": {},
   "number_sections": true,
   "sideBar": true,
   "skip_h1_title": false,
   "title_cell": "Table of Contents",
   "title_sidebar": "Contents",
   "toc_cell": false,
   "toc_position": {},
   "toc_section_display": true,
   "toc_window_display": false
  }
 },
 "nbformat": 4,
 "nbformat_minor": 5
}
